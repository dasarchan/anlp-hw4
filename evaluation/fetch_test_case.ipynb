{
 "cells": [
  {
   "cell_type": "code",
   "execution_count": 7,
   "metadata": {},
   "outputs": [
    {
     "name": "stdout",
     "output_type": "stream",
     "text": [
      "\n",
      "Loaded environment variables:\n"
     ]
    }
   ],
   "source": [
    "import os\n",
    "import sys\n",
    "import json\n",
    "import tqdm\n",
    "\n",
    "\n",
    "# dotenv.load_dotenv(dotenv_path='.env')\n",
    "\n",
    "print(\"\\nLoaded environment variables:\")\n",
    "for key, value in os.environ.items():\n",
    "    if key.startswith(\"LEETCODE_\") or key.startswith(\"CSRF_\"):\n",
    "        # Print only first and last few characters for security\n",
    "        masked_value = value[:10] + \"...\" + value[-10:] if len(value) > 30 else value\n",
    "        print(f\"{key}: {masked_value}\")\n",
    "\n",
    "SETTING = \"debug\"\n",
    "MODEL = sys.argv[1]\n",
    "\n",
    "WORK_DIR = \"evaluation\"\n",
    "SRC_DIR = f\"benchmark\"\n",
    "SAVE_DIR = f\"{WORK_DIR}/res/{MODEL}/{SETTING}\"\n",
    "if not os.path.exists(SAVE_DIR):\n",
    "    os.makedirs(SAVE_DIR)\n",
    "def load_bug_data():\n",
    "    \"\"\"load data with different languages and bug types\"\"\"\n",
    "    res = {\n",
    "        \"cpp\": {},\n",
    "        \"java\": {},\n",
    "        \"python3\": {},\n",
    "    }\n",
    "    files = os.listdir(SRC_DIR)\n",
    "    for file in files:\n",
    "        file_name = os.path.splitext(file)[0]\n",
    "        lang = file_name[: file_name.find(\"_\")]\n",
    "        bug_type = file_name[file_name.find(\"_\") + 1 :]\n",
    "        res[lang][bug_type] = json.load(open(os.path.join(SRC_DIR, file)))\n",
    "    return res\n"
   ]
  },
  {
   "cell_type": "code",
   "execution_count": 6,
   "metadata": {},
   "outputs": [],
   "source": [
    "!cd .."
   ]
  },
  {
   "cell_type": "code",
   "execution_count": 2,
   "metadata": {},
   "outputs": [
    {
     "ename": "FileNotFoundError",
     "evalue": "[Errno 2] No such file or directory: 'benchmark'",
     "output_type": "error",
     "traceback": [
      "\u001b[0;31m---------------------------------------------------------------------------\u001b[0m",
      "\u001b[0;31mFileNotFoundError\u001b[0m                         Traceback (most recent call last)",
      "Cell \u001b[0;32mIn[2], line 1\u001b[0m\n\u001b[0;32m----> 1\u001b[0m bug_data \u001b[38;5;241m=\u001b[39m \u001b[43mload_bug_data\u001b[49m\u001b[43m(\u001b[49m\u001b[43m)\u001b[49m\n\u001b[1;32m      2\u001b[0m \u001b[38;5;28;01mfor\u001b[39;00m lang \u001b[38;5;129;01min\u001b[39;00m bug_data\u001b[38;5;241m.\u001b[39mkeys():\n\u001b[1;32m      3\u001b[0m     \u001b[38;5;28;01mfor\u001b[39;00m bug_type \u001b[38;5;129;01min\u001b[39;00m bug_data[lang]:\n",
      "Cell \u001b[0;32mIn[1], line 20\u001b[0m, in \u001b[0;36mload_bug_data\u001b[0;34m()\u001b[0m\n\u001b[1;32m     14\u001b[0m \u001b[38;5;250m\u001b[39m\u001b[38;5;124;03m\"\"\"load data with different languages and bug types\"\"\"\u001b[39;00m\n\u001b[1;32m     15\u001b[0m res \u001b[38;5;241m=\u001b[39m {\n\u001b[1;32m     16\u001b[0m     \u001b[38;5;124m\"\u001b[39m\u001b[38;5;124mcpp\u001b[39m\u001b[38;5;124m\"\u001b[39m: {},\n\u001b[1;32m     17\u001b[0m     \u001b[38;5;124m\"\u001b[39m\u001b[38;5;124mjava\u001b[39m\u001b[38;5;124m\"\u001b[39m: {},\n\u001b[1;32m     18\u001b[0m     \u001b[38;5;124m\"\u001b[39m\u001b[38;5;124mpython3\u001b[39m\u001b[38;5;124m\"\u001b[39m: {},\n\u001b[1;32m     19\u001b[0m }\n\u001b[0;32m---> 20\u001b[0m files \u001b[38;5;241m=\u001b[39m \u001b[43mos\u001b[49m\u001b[38;5;241;43m.\u001b[39;49m\u001b[43mlistdir\u001b[49m\u001b[43m(\u001b[49m\u001b[43mSRC_DIR\u001b[49m\u001b[43m)\u001b[49m\n\u001b[1;32m     21\u001b[0m \u001b[38;5;28;01mfor\u001b[39;00m file \u001b[38;5;129;01min\u001b[39;00m files:\n\u001b[1;32m     22\u001b[0m     file_name \u001b[38;5;241m=\u001b[39m os\u001b[38;5;241m.\u001b[39mpath\u001b[38;5;241m.\u001b[39msplitext(file)[\u001b[38;5;241m0\u001b[39m]\n",
      "\u001b[0;31mFileNotFoundError\u001b[0m: [Errno 2] No such file or directory: 'benchmark'"
     ]
    }
   ],
   "source": [
    "bug_data = load_bug_data()\n",
    "for lang in bug_data.keys():\n",
    "    for bug_type in bug_data[lang]:\n",
    "        if lang != \"python3\":\n",
    "            continue\n",
    "        else:\n",
    "            print(bug_data[lang].keys())\n",
    "        \n",
    "        break"
   ]
  },
  {
   "cell_type": "code",
   "execution_count": 1,
   "metadata": {},
   "outputs": [],
   "source": [
    "from leetscrape import GetQuestion\n",
    "\n",
    "question = GetQuestion(titleSlug=\"two-sum\").scrape()\n"
   ]
  },
  {
   "cell_type": "code",
   "execution_count": 7,
   "metadata": {},
   "outputs": [
    {
     "data": {
      "text/plain": [
       "'<p>Given an array of integers <code>nums</code>&nbsp;and an integer <code>target</code>, return <em>indices of the two numbers such that they add up to <code>target</code></em>.</p>\\n\\n<p>You may assume that each input would have <strong><em>exactly</em> one solution</strong>, and you may not use the <em>same</em> element twice.</p>\\n\\n<p>You can return the answer in any order.</p>\\n\\n<p>&nbsp;</p>\\n<p><strong class=\"example\">Example 1:</strong></p>\\n\\n<pre>\\n<strong>Input:</strong> nums = [2,7,11,15], target = 9\\n<strong>Output:</strong> [0,1]\\n<strong>Explanation:</strong> Because nums[0] + nums[1] == 9, we return [0, 1].\\n</pre>\\n\\n<p><strong class=\"example\">Example 2:</strong></p>\\n\\n<pre>\\n<strong>Input:</strong> nums = [3,2,4], target = 6\\n<strong>Output:</strong> [1,2]\\n</pre>\\n\\n<p><strong class=\"example\">Example 3:</strong></p>\\n\\n<pre>\\n<strong>Input:</strong> nums = [3,3], target = 6\\n<strong>Output:</strong> [0,1]\\n</pre>\\n\\n<p>&nbsp;</p>\\n<p><strong>Constraints:</strong></p>\\n\\n<ul>\\n\\t<li><code>2 &lt;= nums.length &lt;= 10<sup>4</sup></code></li>\\n\\t<li><code>-10<sup>9</sup> &lt;= nums[i] &lt;= 10<sup>9</sup></code></li>\\n\\t<li><code>-10<sup>9</sup> &lt;= target &lt;= 10<sup>9</sup></code></li>\\n\\t<li><strong>Only one valid answer exists.</strong></li>\\n</ul>\\n\\n<p>&nbsp;</p>\\n<strong>Follow-up:&nbsp;</strong>Can you come up with an algorithm that is less than <code>O(n<sup>2</sup>)</code><font face=\"monospace\">&nbsp;</font>time complexity?'"
      ]
     },
     "execution_count": 7,
     "metadata": {},
     "output_type": "execute_result"
    }
   ],
   "source": [
    "question.Body"
   ]
  },
  {
   "cell_type": "code",
   "execution_count": 1,
   "metadata": {},
   "outputs": [
    {
     "name": "stdout",
     "output_type": "stream",
     "text": [
      "Generating code stub for 1040. moving-stones-until-consecutive-ii\n",
      "Code stub save to q_1040_movingStonesUntilConsecutiveIi.py\n",
      "Test file written to test_q_1040_movingStonesUntilConsecutiveIi.py.py\n"
     ]
    }
   ],
   "source": [
    "from leetscrape import GenerateCodeStub\n",
    "fcs = GenerateCodeStub(titleSlug=\"moving-stones-until-consecutive-ii\")\n",
    "fcs.generate(\n",
    "    directory=\"/Users/zhijie/Documents/11-711 Advanced NLP/anlp-hw4/evaluation/test_cases\"\n",
    ")\n"
   ]
  },
  {
   "cell_type": "code",
   "execution_count": 4,
   "metadata": {},
   "outputs": [
    {
     "name": "stderr",
     "output_type": "stream",
     "text": [
      "/Users/zhijie/miniconda3/envs/leetscrape/lib/python3.10/site-packages/tqdm/auto.py:21: TqdmWarning: IProgress not found. Please update jupyter and ipywidgets. See https://ipywidgets.readthedocs.io/en/stable/user_install.html\n",
      "  from .autonotebook import tqdm as notebook_tqdm\n"
     ]
    }
   ],
   "source": [
    "from datasets import load_dataset\n",
    "\n",
    "ds = load_dataset(\"Rtian/DebugBench\")\n"
   ]
  },
  {
   "cell_type": "code",
   "execution_count": 5,
   "metadata": {},
   "outputs": [
    {
     "data": {
      "text/plain": [
       "1414"
      ]
     },
     "execution_count": 5,
     "metadata": {},
     "output_type": "execute_result"
    }
   ],
   "source": [
    "# Get all Python3 instances from the dataset\n",
    "python3_instances = [example for example in ds[\"test\"] if example[\"language\"] == \"python3\"]\n",
    "len(python3_instances)  # Display the count of Python3 instances\n"
   ]
  },
  {
   "cell_type": "code",
   "execution_count": 6,
   "metadata": {},
   "outputs": [
    {
     "name": "stdout",
     "output_type": "stream",
     "text": [
      "moving-stones-until-consecutive-ii\n",
      "class Solution:\n",
      "    '''\n",
      "        Test cases walk through \n",
      "        Given 7, 4, 9 prove 1, 2                                                            6, 5, 4, 3, 10, prove 2, 3 \n",
      "\n",
      "        Sort stones -> 4, 7, 9                                                              3, 4, 5, 6, 10 \n",
      "        Stone length -> 3                                                                   5\n",
      "        Move penultimate = 7 - 4 - 3 + 2 = 2                                                6-3-5+2 = 0 \n",
      "        Move final = 9 - 7 - 3 + 2 = 1                                                      10-4-5+2 = 3 \n",
      "        Neither is 0, so we cannot return for sure                                          Move penultimate is 0, so move final is assured \n",
      "                                                                                            This means we can return [min(2, 3), 3] -> [2, 3]\n",
      "\n",
      "        Max legal moves is 0                                                                For completeness, max legal moves is 0, max moves is 3  \n",
      "        starting index is 0                                                                 starting index is 0 \n",
      "\n",
      "        Enumeration                                                                         Enumeration\n",
      "            index is 0, stone is 4                                                             index is 0, stone is 3 \n",
      "            stones[0] lte 4 - 3 ? No, skip while loop                                          stones[0] lte 3 - 5 ? No, skip while \n",
      "            max legal moves is min of (max of self and 0 - 0 + 1, most moves)                  max legal moves is min of (max of self and 0 - 0 + 1), max moves -> max legal moves is 1 \n",
      "                 -> max legal moves is 1                                                            \n",
      "\n",
      "            index is 1, stone is 7                                                             index is 1, stone is 4 \n",
      "            stones[0] <= 7 - 3 ? Yes, enter while                                              stones[0] lte 4 - 5 ? No, skip while \n",
      "                starting index is now 1                                                        max legal moves is min of (max of self and 1 - 0 + 1), max moves -> max legal moves is 2\n",
      "            stones[1] <= 7 - 3 ? No, skip while                                                 \n",
      "            max legal moves -> min(max of self and 1 - 1 + 1), max_moves \n",
      "                -> max legal moves is 1                                                        index is 2, stone is 5 \n",
      "                                                                                               stones[0] lte 5 - 5 ? No skip while \n",
      "            index is 2, stone is 9                                                             max legal moves is min of (max of self and 2 - 0 + 1), max_moves -> max legal moves is 3 \n",
      "            stones[1] <= 9 - 3 ? No, skip while                                                 \n",
      "            max legal moves is min(max of self and 2-1 + 1), max_moves\n",
      "                 -> max legal moves is 2                                                       index is 3, stone is 6 \n",
      "        End enumeration                                                                        stones[0] lte 6 - 5 ? No skip while \n",
      "                                                                                               max legal moves is min (max of self and 3 - 0 + 1), max_moves -> max legal moves is 3 \n",
      "        Return [3 - 2, 2] -> [1, 2] checks out                                                  \n",
      "                                                                                               index is 4, stones is 10 \n",
      "                                                                                               stones[0] lte 10 - 5 ? Yes, enter while \n",
      "                                                                                                    starting index is 1 \n",
      "                                                                                               stones[1] lte 10 - 5 ? Yes, enter while \n",
      "                                                                                                    starting index is 2 \n",
      "                                                                                               stones[2] lte 10 - 5 ? Yes, enter while \n",
      "                                                                                                    starting index is 3 \n",
      "                                                                                               max legal moves is min (max of self and 4 - 3 + 1), max moves -> max legal moves is 3 \n",
      "                                                                                            End enumeration\n",
      "\n",
      "                                                                                            Return [5 - 3, 3] -> [2, 3]\n",
      "    '''\n",
      "    def numMovesStonesII(self, stones: List[int]) -> List[int] :\n",
      "        # order does not need to be maintained, so sorting is optimal \n",
      "        stones.sort()\n",
      "        # want to work within stone physical space since 10^9 >> 10^4 (stone weight vs length)\n",
      "        stone_length = len(stones)\n",
      "        # what is the cost of moving the second to last stone and the 0th stone? \n",
      "        move_penultimate = stones[-2] - stones[0] - stone_length + 2 \n",
      "        # what is the cost of moving the last stone and the 1st stone? \n",
      "        move_final = stones[-1] - stones[1] - stone_length + 2 \n",
      "        # in both of these, the cost is the positional exchange in stones along the stone length + 2 for the two stones moving \n",
      "        # our most moves possible are the max of these two \n",
      "        most_moves = max(move_penultimate, move_final)\n",
      "        # since the stones are unique, if either is 0, the one that we have must be max legal moves \n",
      "        # if move penultimate is 0, that means that the second largest stone less the least stone less the length + 2 is 0 \n",
      "        # this means that the largest stone, which must be at least one larger than the largest, less the second to least stone which is at least one larger than the least stone  less the length + 2 is move final \n",
      "        # our minimal length is 3 \n",
      "        # let a, b, c be stones in order \n",
      "        # b - a - 3 + 2 = 0 -> b = a + 1 move penultimate  \n",
      "        # c - b - 3 + 2 = 0 -> b = c - 1 move final \n",
      "        # c - 1 = a + 1 -> c = a + 2 \n",
      "        # all stones must be at least 1 to 10^9 and are unique \n",
      "        # so at minimum a is 1, b is 2 and c is 3  \n",
      "        # in this case, move final is also 0 so we get 0, 0 \n",
      "        # if a = 4, b = 5, c = 7 \n",
      "        # 5 - 4 - 3 + 2 = 0 move penultimate is 0 \n",
      "        # 7 - 5 - 3 + 2 -> 1 move ultimate is 1 \n",
      "        # min legal moves is min of 2 and 1 -> min legal moves is 1 -> 1, 1 is returned \n",
      "        # from this it can be seen that the movement of c relative to b impacts  the return here when one is 0, and that if either is 0 it does not preclude the other. However it does entail a relation to 2 as most that min could become \n",
      "        # this is because if most moves is greater than 2, we could always do the move alternate that was 0 in two steps. This is what locks in to place the ability to use 2 here as the min argument. \n",
      "        if move_penultimate == 0 or move_final == 0 : \n",
      "            min_legal_moves = min(2, most_moves)\n",
      "            return [min_legal_moves, most_moves]\n",
      "        # how many legal moves are there in sorted order? \n",
      "        max_legal_moves = 0 \n",
      "        # starting from 0th index \n",
      "        starting_index = 0\n",
      "        # enumerate each stone and index \n",
      "        for index, stone in enumerate(stones) :\n",
      "            # while the stone at starting index is lte this stone minus stone length (cost of a move) \n",
      "            while stones[starting_index] <= stone - stone_length : \n",
      "                # increment \n",
      "                starting_index += 1\n",
      "            # max legal moves is then set to maxima of self and indexed difference with 1 for 0 based indexing  \n",
      "            max_legal_moves = min(max(max_legal_moves, index - starting_index + 1), most_moves) \n",
      "        # return length - max legal moves when in sorted order (your minimal move state) and most moves in sorted order \n",
      "        return [stone_length - max_legal_moves, most_moves]\n"
     ]
    }
   ],
   "source": [
    "print(python3_instances[0][\"slug\"])\n",
    "print(python3_instances[0][\"solution\"])\n"
   ]
  },
  {
   "cell_type": "code",
   "execution_count": 12,
   "metadata": {},
   "outputs": [
    {
     "name": "stdout",
     "output_type": "stream",
     "text": [
      "1414\n"
     ]
    }
   ],
   "source": [
    "print(len(python3_instances))"
   ]
  },
  {
   "cell_type": "code",
   "execution_count": 16,
   "metadata": {},
   "outputs": [
    {
     "name": "stderr",
     "output_type": "stream",
     "text": [
      "Generating code stubs:   0%|          | 0/1414 [00:00<?, ?it/s]"
     ]
    },
    {
     "name": "stdout",
     "output_type": "stream",
     "text": [
      "Files for moving-stones-until-consecutive-ii already exist, skipping...\n",
      "Files for largest-number-after-mutating-substring already exist, skipping...\n",
      "Files for nim-game already exist, skipping...\n",
      "Files for find-all-possible-recipes-from-given-supplies already exist, skipping...\n",
      "Files for sequential-digits already exist, skipping...\n",
      "Files for check-if-string-is-transformable-with-substring-sort-operations already exist, skipping...\n",
      "Generating code stub for 897. increasing-order-search-tree\n"
     ]
    },
    {
     "name": "stderr",
     "output_type": "stream",
     "text": [
      "Generating code stubs:   0%|          | 7/1414 [00:01<05:23,  4.35it/s]"
     ]
    },
    {
     "name": "stdout",
     "output_type": "stream",
     "text": [
      "Error with increasing-order-search-tree: malformed node or string on line 1: <ast.Name object at 0x149808430>\n",
      "Files for check-if-one-string-swap-can-make-strings-equal already exist, skipping...\n",
      "Files for disconnect-path-in-a-binary-matrix-by-at-most-one-flip already exist, skipping...\n",
      "Generating code stub for 988. smallest-string-starting-from-leaf\n"
     ]
    },
    {
     "name": "stderr",
     "output_type": "stream",
     "text": [
      "Generating code stubs:   1%|          | 10/1414 [00:04<11:48,  1.98it/s]"
     ]
    },
    {
     "name": "stdout",
     "output_type": "stream",
     "text": [
      "Error with smallest-string-starting-from-leaf: malformed node or string on line 1: <ast.Name object at 0x14b4bdc90>\n",
      "Generating code stub for 911. online-election\n"
     ]
    },
    {
     "name": "stderr",
     "output_type": "stream",
     "text": [
      "Generating code stubs:   1%|          | 11/1414 [00:06<17:50,  1.31it/s]"
     ]
    },
    {
     "name": "stdout",
     "output_type": "stream",
     "text": [
      "Error with online-election: local variable 'inp' referenced before assignment\n",
      "Files for number-complement already exist, skipping...\n",
      "Generating code stub for 107. binary-tree-level-order-traversal-ii\n"
     ]
    },
    {
     "name": "stderr",
     "output_type": "stream",
     "text": [
      "Generating code stubs:   1%|          | 13/1414 [00:08<19:26,  1.20it/s]"
     ]
    },
    {
     "name": "stdout",
     "output_type": "stream",
     "text": [
      "Error with binary-tree-level-order-traversal-ii: malformed node or string on line 1: <ast.Name object at 0x149778e80>\n",
      "Files for maximum-of-absolute-value-expression already exist, skipping...\n",
      "Files for minimum-cost-to-make-at-least-one-valid-path-in-a-grid already exist, skipping...\n",
      "Files for alternating-digit-sum already exist, skipping...\n",
      "Files for best-time-to-buy-and-sell-stock-ii already exist, skipping...\n",
      "Generating code stub for 30. substring-with-concatenation-of-all-words\n"
     ]
    },
    {
     "name": "stderr",
     "output_type": "stream",
     "text": [
      "Generating code stubs:   1%|▏         | 18/1414 [00:10<13:10,  1.77it/s]"
     ]
    },
    {
     "name": "stdout",
     "output_type": "stream",
     "text": [
      "Error with substring-with-concatenation-of-all-words: list index out of range\n",
      "Files for merge-k-sorted-lists already exist, skipping...\n",
      "Files for find-the-string-with-lcp already exist, skipping...\n",
      "Generating code stub for 303. range-sum-query-immutable\n"
     ]
    },
    {
     "name": "stderr",
     "output_type": "stream",
     "text": [
      "Generating code stubs:   1%|▏         | 21/1414 [00:12<13:27,  1.73it/s]"
     ]
    },
    {
     "name": "stdout",
     "output_type": "stream",
     "text": [
      "Error with range-sum-query-immutable: local variable 'inp' referenced before assignment\n",
      "Files for plus-one already exist, skipping...\n",
      "Files for third-maximum-number already exist, skipping...\n",
      "Files for minimum-index-sum-of-two-lists already exist, skipping...\n",
      "Files for find-words-that-can-be-formed-by-characters already exist, skipping...\n",
      "Files for maximize-number-of-nice-divisors already exist, skipping...\n",
      "Files for find-closest-node-to-given-two-nodes already exist, skipping...\n",
      "Files for delete-greatest-value-in-each-row already exist, skipping...\n",
      "Files for count-anagrams already exist, skipping...\n",
      "Generating code stub for 916. word-subsets\n"
     ]
    },
    {
     "name": "stderr",
     "output_type": "stream",
     "text": [
      "Generating code stubs:   2%|▏         | 30/1414 [00:13<08:22,  2.75it/s]"
     ]
    },
    {
     "name": "stdout",
     "output_type": "stream",
     "text": [
      "Error with word-subsets: list index out of range\n",
      "Files for next-greater-element-iv already exist, skipping...\n",
      "Files for minimum-bit-flips-to-convert-number already exist, skipping...\n",
      "Files for sum-of-subarray-minimums already exist, skipping...\n",
      "Files for linked-list-cycle already exist, skipping...\n",
      "Files for minimum-distance-to-the-target-element already exist, skipping...\n",
      "Generating code stub for 1026. maximum-difference-between-node-and-ancestor\n"
     ]
    },
    {
     "name": "stderr",
     "output_type": "stream",
     "text": [
      "Generating code stubs:   3%|▎         | 36/1414 [00:15<07:58,  2.88it/s]"
     ]
    },
    {
     "name": "stdout",
     "output_type": "stream",
     "text": [
      "Error with maximum-difference-between-node-and-ancestor: malformed node or string on line 1: <ast.Name object at 0x12fcca7d0>\n",
      "Files for distribute-candies already exist, skipping...\n",
      "Files for partition-array-into-three-parts-with-equal-sum already exist, skipping...\n",
      "Files for convert-integer-to-the-sum-of-two-no-zero-integers already exist, skipping...\n",
      "Files for reverse-nodes-in-k-group already exist, skipping...\n",
      "Files for grid-game already exist, skipping...\n",
      "Files for how-many-numbers-are-smaller-than-the-current-number already exist, skipping...\n",
      "Files for minimum-speed-to-arrive-on-time already exist, skipping...\n",
      "Files for check-if-string-is-transformable-with-substring-sort-operations already exist, skipping...\n",
      "Files for median-of-two-sorted-arrays already exist, skipping...\n",
      "Files for minimize-the-total-price-of-the-trips already exist, skipping...\n",
      "Files for increasing-decreasing-string already exist, skipping...\n",
      "Generating code stub for 94. binary-tree-inorder-traversal\n"
     ]
    },
    {
     "name": "stderr",
     "output_type": "stream",
     "text": [
      "Generating code stubs:   3%|▎         | 48/1414 [00:17<05:51,  3.88it/s]"
     ]
    },
    {
     "name": "stdout",
     "output_type": "stream",
     "text": [
      "Error with binary-tree-inorder-traversal: list index out of range\n",
      "Files for minimum-time-to-complete-all-tasks already exist, skipping...\n",
      "Files for lexicographical-numbers already exist, skipping...\n",
      "Files for maximum-performance-of-a-team already exist, skipping...\n",
      "Generating code stub for 303. range-sum-query-immutable\n"
     ]
    },
    {
     "name": "stderr",
     "output_type": "stream",
     "text": [
      "Generating code stubs:   4%|▎         | 52/1414 [00:19<06:50,  3.32it/s]"
     ]
    },
    {
     "name": "stdout",
     "output_type": "stream",
     "text": [
      "Error with range-sum-query-immutable: local variable 'inp' referenced before assignment\n",
      "Files for merge-k-sorted-lists already exist, skipping...\n",
      "Files for moving-stones-until-consecutive-ii already exist, skipping...\n",
      "Generating code stub for 107. binary-tree-level-order-traversal-ii\n"
     ]
    },
    {
     "name": "stderr",
     "output_type": "stream",
     "text": [
      "Generating code stubs:   4%|▍         | 55/1414 [00:20<07:08,  3.17it/s]"
     ]
    },
    {
     "name": "stdout",
     "output_type": "stream",
     "text": [
      "Error with binary-tree-level-order-traversal-ii: malformed node or string on line 1: <ast.Name object at 0x16c04a050>\n",
      "Files for find-positive-integer-solution-for-a-given-equation already exist, skipping...\n",
      "Generating code stub for 2091. removing-minimum-and-maximum-from-array\n"
     ]
    },
    {
     "name": "stderr",
     "output_type": "stream",
     "text": [
      "Generating code stubs:   4%|▍         | 57/1414 [00:22<09:03,  2.50it/s]"
     ]
    },
    {
     "name": "stdout",
     "output_type": "stream",
     "text": [
      "Error with removing-minimum-and-maximum-from-array: invalid syntax (<unknown>, line 1)\n",
      "Files for maximum-number-of-consecutive-values-you-can-make already exist, skipping...\n",
      "Files for sum-of-subarray-minimums already exist, skipping...\n",
      "Files for can-you-eat-your-favorite-candy-on-your-favorite-day already exist, skipping...\n",
      "Files for sliding-window-median already exist, skipping...\n",
      "Generating code stub for 2583. kth-largest-sum-in-a-binary-tree\n"
     ]
    },
    {
     "name": "stderr",
     "output_type": "stream",
     "text": [
      "Generating code stubs:   4%|▍         | 62/1414 [00:24<09:21,  2.41it/s]"
     ]
    },
    {
     "name": "stdout",
     "output_type": "stream",
     "text": [
      "Error with kth-largest-sum-in-a-binary-tree: malformed node or string on line 1: <ast.Name object at 0x149243d00>\n",
      "Generating code stub for 205. isomorphic-strings\n"
     ]
    },
    {
     "name": "stderr",
     "output_type": "stream",
     "text": [
      "Generating code stubs:   4%|▍         | 63/1414 [00:26<12:12,  1.84it/s]"
     ]
    },
    {
     "name": "stdout",
     "output_type": "stream",
     "text": [
      "Error with isomorphic-strings: list index out of range\n",
      "Generating code stub for 105. construct-binary-tree-from-preorder-and-inorder-traversal\n"
     ]
    },
    {
     "name": "stderr",
     "output_type": "stream",
     "text": [
      "Generating code stubs:   5%|▍         | 64/1414 [00:28<14:07,  1.59it/s]"
     ]
    },
    {
     "name": "stdout",
     "output_type": "stream",
     "text": [
      "Error with construct-binary-tree-from-preorder-and-inorder-traversal: malformed node or string on line 1: <ast.Name object at 0x16c093e80>\n",
      "Generating code stub for 2296. design-a-text-editor\n"
     ]
    },
    {
     "name": "stderr",
     "output_type": "stream",
     "text": [
      "Generating code stubs:   5%|▍         | 65/1414 [00:29<17:45,  1.27it/s]"
     ]
    },
    {
     "name": "stdout",
     "output_type": "stream",
     "text": [
      "Error with design-a-text-editor: local variable 'inp' referenced before assignment\n",
      "Generating code stub for 478. generate-random-point-in-a-circle\n"
     ]
    },
    {
     "name": "stderr",
     "output_type": "stream",
     "text": [
      "Generating code stubs:   5%|▍         | 66/1414 [00:31<21:37,  1.04it/s]"
     ]
    },
    {
     "name": "stdout",
     "output_type": "stream",
     "text": [
      "Error with generate-random-point-in-a-circle: local variable 'inp' referenced before assignment\n",
      "Files for convert-integer-to-the-sum-of-two-no-zero-integers already exist, skipping...\n",
      "Generating code stub for 513. find-bottom-left-tree-value\n"
     ]
    },
    {
     "name": "stderr",
     "output_type": "stream",
     "text": [
      "Generating code stubs:   5%|▍         | 68/1414 [00:33<22:14,  1.01it/s]"
     ]
    },
    {
     "name": "stdout",
     "output_type": "stream",
     "text": [
      "Error with find-bottom-left-tree-value: malformed node or string on line 1: <ast.Name object at 0x14b682ec0>\n",
      "Generating code stub for 107. binary-tree-level-order-traversal-ii\n"
     ]
    },
    {
     "name": "stderr",
     "output_type": "stream",
     "text": [
      "Generating code stubs:   5%|▍         | 69/1414 [00:35<26:22,  1.18s/it]"
     ]
    },
    {
     "name": "stdout",
     "output_type": "stream",
     "text": [
      "Error with binary-tree-level-order-traversal-ii: malformed node or string on line 1: <ast.Name object at 0x149d264d0>\n",
      "Files for find-first-palindromic-string-in-the-array already exist, skipping...\n",
      "Files for number-of-pairs-of-strings-with-concatenation-equal-to-target already exist, skipping...\n",
      "Files for minimum-difference-between-highest-and-lowest-of-k-scores already exist, skipping...\n",
      "Files for maximize-number-of-nice-divisors already exist, skipping...\n",
      "Files for number-complement already exist, skipping...\n",
      "Files for reachable-nodes-with-restrictions already exist, skipping...\n",
      "Files for ways-to-split-array-into-good-subarrays already exist, skipping...\n",
      "Files for kth-largest-element-in-an-array already exist, skipping...\n",
      "Files for number-of-ways-of-cutting-a-pizza already exist, skipping...\n",
      "Files for partition-string-into-substrings-with-values-at-most-k already exist, skipping...\n",
      "Files for check-if-string-is-transformable-with-substring-sort-operations already exist, skipping...\n",
      "Files for palindrome-pairs already exist, skipping...\n",
      "Generating code stub for 80. remove-duplicates-from-sorted-array-ii\n"
     ]
    },
    {
     "name": "stderr",
     "output_type": "stream",
     "text": [
      "Generating code stubs:   6%|▌         | 82/1414 [00:38<08:39,  2.56it/s]"
     ]
    },
    {
     "name": "stdout",
     "output_type": "stream",
     "text": [
      "Error with remove-duplicates-from-sorted-array-ii: local variable 'inp' referenced before assignment\n",
      "Files for find-the-value-of-the-partition already exist, skipping...\n",
      "Generating code stub for 1305. all-elements-in-two-binary-search-trees\n"
     ]
    },
    {
     "name": "stderr",
     "output_type": "stream",
     "text": [
      "Generating code stubs:   6%|▌         | 84/1414 [00:39<09:33,  2.32it/s]"
     ]
    },
    {
     "name": "stdout",
     "output_type": "stream",
     "text": [
      "Error with all-elements-in-two-binary-search-trees: malformed node or string on line 1: <ast.Name object at 0x14b5b7c10>\n",
      "Files for pascals-triangle already exist, skipping...\n",
      "Files for string-compression-ii already exist, skipping...\n",
      "Generating code stub for 94. binary-tree-inorder-traversal\n"
     ]
    },
    {
     "name": "stderr",
     "output_type": "stream",
     "text": [
      "Generating code stubs:   6%|▌         | 87/1414 [00:41<10:28,  2.11it/s]"
     ]
    },
    {
     "name": "stdout",
     "output_type": "stream",
     "text": [
      "Error with binary-tree-inorder-traversal: list index out of range\n",
      "Files for find-all-possible-recipes-from-given-supplies already exist, skipping...\n",
      "Files for check-if-point-is-reachable already exist, skipping...\n",
      "Files for baseball-game already exist, skipping...\n",
      "Files for maximum-elegance-of-a-k-length-subsequence already exist, skipping...\n",
      "Files for split-linked-list-in-parts already exist, skipping...\n",
      "Generating code stub for 2091. removing-minimum-and-maximum-from-array\n"
     ]
    },
    {
     "name": "stderr",
     "output_type": "stream",
     "text": [
      "Generating code stubs:   7%|▋         | 93/1414 [00:42<08:28,  2.60it/s]"
     ]
    },
    {
     "name": "stdout",
     "output_type": "stream",
     "text": [
      "Error with removing-minimum-and-maximum-from-array: invalid syntax (<unknown>, line 1)\n",
      "Files for minimum-index-sum-of-two-lists already exist, skipping...\n",
      "Files for frog-position-after-t-seconds already exist, skipping...\n",
      "Files for sort-an-array already exist, skipping...\n",
      "Files for arithmetic-slices-ii-subsequence already exist, skipping...\n",
      "Files for maximum-performance-of-a-team already exist, skipping...\n",
      "Files for largest-positive-integer-that-exists-with-its-negative already exist, skipping...\n",
      "Files for find-closest-node-to-given-two-nodes already exist, skipping...\n",
      "Files for self-dividing-numbers already exist, skipping...\n",
      "Files for find-the-middle-index-in-array already exist, skipping...\n",
      "Files for can-place-flowers already exist, skipping...\n",
      "Files for lexicographical-numbers already exist, skipping...\n",
      "Files for fibonacci-number already exist, skipping...\n",
      "Files for check-if-two-string-arrays-are-equivalent already exist, skipping...\n",
      "Files for partition-labels already exist, skipping...\n",
      "Files for moving-stones-until-consecutive-ii already exist, skipping...\n",
      "Files for longest-happy-prefix already exist, skipping...\n",
      "Files for arithmetic-slices-ii-subsequence already exist, skipping...\n",
      "Files for sum-of-absolute-differences-in-a-sorted-array already exist, skipping...\n",
      "Generating code stub for 2734. lexicographically-smallest-string-after-substring-operation\n"
     ]
    },
    {
     "name": "stderr",
     "output_type": "stream",
     "text": [
      "Generating code stubs:   8%|▊         | 112/1414 [00:44<04:12,  5.17it/s]"
     ]
    },
    {
     "name": "stdout",
     "output_type": "stream",
     "text": [
      "Error with lexicographically-smallest-string-after-substring-operation: list index out of range\n",
      "Files for maximum-of-absolute-value-expression already exist, skipping...\n",
      "Files for sliding-window-median already exist, skipping...\n",
      "Files for next-greater-element-i already exist, skipping...\n",
      "Files for partition-array-into-three-parts-with-equal-sum already exist, skipping...\n",
      "Files for kth-missing-positive-number already exist, skipping...\n",
      "Generating code stub for 1367. linked-list-in-binary-tree\n"
     ]
    },
    {
     "name": "stderr",
     "output_type": "stream",
     "text": [
      "Generating code stubs:   8%|▊         | 118/1414 [00:46<04:35,  4.70it/s]"
     ]
    },
    {
     "name": "stdout",
     "output_type": "stream",
     "text": [
      "Error with linked-list-in-binary-tree: malformed node or string on line 1: <ast.Name object at 0x14b682470>\n",
      "Generating code stub for 2091. removing-minimum-and-maximum-from-array\n"
     ]
    },
    {
     "name": "stderr",
     "output_type": "stream",
     "text": [
      "Generating code stubs:   8%|▊         | 119/1414 [00:47<05:48,  3.72it/s]"
     ]
    },
    {
     "name": "stdout",
     "output_type": "stream",
     "text": [
      "Error with removing-minimum-and-maximum-from-array: invalid syntax (<unknown>, line 1)\n",
      "Files for sort-an-array already exist, skipping...\n",
      "Generating code stub for 454. 4sum-ii\n"
     ]
    },
    {
     "name": "stderr",
     "output_type": "stream",
     "text": [
      "Generating code stubs:   9%|▊         | 121/1414 [00:49<07:38,  2.82it/s]"
     ]
    },
    {
     "name": "stdout",
     "output_type": "stream",
     "text": [
      "Code stub save to q_0454_4SumIi.py\n",
      "Test file written to test_q_0454_4SumIi.py.py\n",
      "Files for count-the-repetitions already exist, skipping...\n",
      "Files for minimum-cost-to-cut-a-stick already exist, skipping...\n",
      "Files for fizz-buzz already exist, skipping...\n",
      "Generating code stub for 80. remove-duplicates-from-sorted-array-ii\n"
     ]
    },
    {
     "name": "stderr",
     "output_type": "stream",
     "text": [
      "Generating code stubs:   9%|▉         | 125/1414 [00:51<08:26,  2.54it/s]"
     ]
    },
    {
     "name": "stdout",
     "output_type": "stream",
     "text": [
      "Error with remove-duplicates-from-sorted-array-ii: local variable 'inp' referenced before assignment\n",
      "Files for minimum-bit-flips-to-convert-number already exist, skipping...\n",
      "Files for length-of-the-longest-valid-substring already exist, skipping...\n",
      "Files for corporate-flight-bookings already exist, skipping...\n",
      "Files for koko-eating-bananas already exist, skipping...\n",
      "Files for powerful-integers already exist, skipping...\n",
      "Files for add-edges-to-make-degrees-of-all-nodes-even already exist, skipping...\n",
      "Files for split-linked-list-in-parts already exist, skipping...\n",
      "Files for check-if-there-is-a-valid-partition-for-the-array already exist, skipping...\n",
      "Files for k-similar-strings already exist, skipping...\n",
      "Files for check-if-string-is-transformable-with-substring-sort-operations already exist, skipping...\n",
      "Files for make-array-zero-by-subtracting-equal-amounts already exist, skipping...\n",
      "Files for unique-number-of-occurrences already exist, skipping...\n",
      "Files for find-kth-bit-in-nth-binary-string already exist, skipping...\n",
      "Files for linked-list-cycle already exist, skipping...\n",
      "Files for minimum-obstacle-removal-to-reach-corner already exist, skipping...\n",
      "Files for create-components-with-same-value already exist, skipping...\n",
      "Files for next-greater-element-i already exist, skipping...\n",
      "Files for fizz-buzz already exist, skipping...\n",
      "Files for longest-well-performing-interval already exist, skipping...\n",
      "Files for lexicographically-smallest-palindrome already exist, skipping...\n",
      "Files for find-peak-element already exist, skipping...\n",
      "Files for distribute-candies already exist, skipping...\n",
      "Files for magic-squares-in-grid already exist, skipping...\n",
      "Files for satisfiability-of-equality-equations already exist, skipping...\n",
      "Files for making-file-names-unique already exist, skipping...\n",
      "Files for increasing-decreasing-string already exist, skipping...\n",
      "Files for reverse-subarray-to-maximize-array-value already exist, skipping...\n",
      "Files for capitalize-the-title already exist, skipping...\n",
      "Generating code stub for 2385. amount-of-time-for-binary-tree-to-be-infected\n"
     ]
    },
    {
     "name": "stderr",
     "output_type": "stream",
     "text": [
      "Generating code stubs:  11%|█         | 154/1414 [00:52<02:42,  7.77it/s]"
     ]
    },
    {
     "name": "stdout",
     "output_type": "stream",
     "text": [
      "Error with amount-of-time-for-binary-tree-to-be-infected: malformed node or string on line 1: <ast.Name object at 0x16c0ea650>\n",
      "Files for find-first-palindromic-string-in-the-array already exist, skipping...\n",
      "Files for delete-operation-for-two-strings already exist, skipping...\n",
      "Generating code stub for 2583. kth-largest-sum-in-a-binary-tree\n"
     ]
    },
    {
     "name": "stderr",
     "output_type": "stream",
     "text": [
      "Generating code stubs:  11%|█         | 157/1414 [00:54<03:48,  5.50it/s]"
     ]
    },
    {
     "name": "stdout",
     "output_type": "stream",
     "text": [
      "Error with kth-largest-sum-in-a-binary-tree: malformed node or string on line 1: <ast.Name object at 0x16c0eaf50>\n",
      "Files for check-if-every-row-and-column-contains-all-numbers already exist, skipping...\n",
      "Files for how-many-numbers-are-smaller-than-the-current-number already exist, skipping...\n",
      "Files for third-maximum-number already exist, skipping...\n",
      "Generating code stub for 107. binary-tree-level-order-traversal-ii\n"
     ]
    },
    {
     "name": "stderr",
     "output_type": "stream",
     "text": [
      "Generating code stubs:  11%|█▏        | 161/1414 [00:55<04:28,  4.67it/s]"
     ]
    },
    {
     "name": "stdout",
     "output_type": "stream",
     "text": [
      "Error with binary-tree-level-order-traversal-ii: malformed node or string on line 1: <ast.Name object at 0x14956ae30>\n",
      "Files for next-greater-element-iv already exist, skipping...\n",
      "Files for partition-array-according-to-given-pivot already exist, skipping...\n",
      "Files for average-value-of-even-numbers-that-are-divisible-by-three already exist, skipping...\n",
      "Files for arithmetic-slices-ii-subsequence already exist, skipping...\n",
      "Files for adding-two-negabinary-numbers already exist, skipping...\n",
      "Files for alternating-digit-sum already exist, skipping...\n",
      "Files for largest-positive-integer-that-exists-with-its-negative already exist, skipping...\n",
      "Files for median-of-two-sorted-arrays already exist, skipping...\n",
      "Files for the-kth-factor-of-n already exist, skipping...\n",
      "Files for valid-parenthesis-string already exist, skipping...\n",
      "Files for find-words-that-can-be-formed-by-characters already exist, skipping...\n",
      "Generating code stub for 109. convert-sorted-list-to-binary-search-tree\n"
     ]
    },
    {
     "name": "stderr",
     "output_type": "stream",
     "text": [
      "Generating code stubs:  12%|█▏        | 173/1414 [00:58<04:19,  4.78it/s]"
     ]
    },
    {
     "name": "stdout",
     "output_type": "stream",
     "text": [
      "Error with convert-sorted-list-to-binary-search-tree: malformed node or string on line 1: <ast.Name object at 0x16c0eba00>\n",
      "Files for partition-string-into-substrings-with-values-at-most-k already exist, skipping...\n",
      "Files for check-if-two-string-arrays-are-equivalent already exist, skipping...\n",
      "Files for neighboring-bitwise-xor already exist, skipping...\n",
      "Files for course-schedule already exist, skipping...\n",
      "Files for partition-array-into-three-parts-with-equal-sum already exist, skipping...\n",
      "Files for magic-squares-in-grid already exist, skipping...\n",
      "Files for find-players-with-zero-or-one-losses already exist, skipping...\n",
      "Generating code stub for 106. construct-binary-tree-from-inorder-and-postorder-traversal\n"
     ]
    },
    {
     "name": "stderr",
     "output_type": "stream",
     "text": [
      "Generating code stubs:  13%|█▎        | 181/1414 [00:59<04:18,  4.77it/s]"
     ]
    },
    {
     "name": "stdout",
     "output_type": "stream",
     "text": [
      "Error with construct-binary-tree-from-inorder-and-postorder-traversal: malformed node or string on line 1: <ast.Name object at 0x16c0ebd90>\n",
      "Files for maximum-number-of-consecutive-values-you-can-make already exist, skipping...\n",
      "Files for all-ancestors-of-a-node-in-a-directed-acyclic-graph already exist, skipping...\n",
      "Generating code stub for 1339. maximum-product-of-splitted-binary-tree\n"
     ]
    },
    {
     "name": "stderr",
     "output_type": "stream",
     "text": [
      "Generating code stubs:  13%|█▎        | 184/1414 [01:01<05:03,  4.05it/s]"
     ]
    },
    {
     "name": "stdout",
     "output_type": "stream",
     "text": [
      "Error with maximum-product-of-splitted-binary-tree: malformed node or string on line 1: <ast.Name object at 0x16c0eb010>\n",
      "Files for lexicographical-numbers already exist, skipping...\n",
      "Files for minimum-fuel-cost-to-report-to-the-capital already exist, skipping...\n",
      "Files for disconnect-path-in-a-binary-matrix-by-at-most-one-flip already exist, skipping...\n",
      "Files for count-number-of-maximum-bitwise-or-subsets already exist, skipping...\n",
      "Files for length-of-the-longest-valid-substring already exist, skipping...\n",
      "Files for how-many-numbers-are-smaller-than-the-current-number already exist, skipping...\n",
      "Files for self-dividing-numbers already exist, skipping...\n",
      "Files for maximize-the-minimum-powered-city already exist, skipping...\n",
      "Files for sort-an-array already exist, skipping...\n",
      "Files for reverse-subarray-to-maximize-array-value already exist, skipping...\n",
      "Files for sum-of-subarray-minimums already exist, skipping...\n",
      "Files for frog-position-after-t-seconds already exist, skipping...\n",
      "Files for fibonacci-number already exist, skipping...\n",
      "Generating code stub for 2660. determine-the-winner-of-a-bowling-game\n"
     ]
    },
    {
     "name": "stderr",
     "output_type": "stream",
     "text": [
      "Generating code stubs:  14%|█▍        | 198/1414 [01:02<03:44,  5.42it/s]"
     ]
    },
    {
     "name": "stdout",
     "output_type": "stream",
     "text": [
      "Error with determine-the-winner-of-a-bowling-game: list index out of range\n",
      "Generating code stub for 2734. lexicographically-smallest-string-after-substring-operation\n"
     ]
    },
    {
     "name": "stderr",
     "output_type": "stream",
     "text": [
      "Generating code stubs:  14%|█▍        | 199/1414 [01:04<04:53,  4.15it/s]"
     ]
    },
    {
     "name": "stdout",
     "output_type": "stream",
     "text": [
      "Error with lexicographically-smallest-string-after-substring-operation: list index out of range\n",
      "Files for find-the-array-concatenation-value already exist, skipping...\n",
      "Files for the-kth-factor-of-n already exist, skipping...\n",
      "Files for check-if-string-is-transformable-with-substring-sort-operations already exist, skipping...\n",
      "Files for restore-ip-addresses already exist, skipping...\n",
      "Files for find-players-with-zero-or-one-losses already exist, skipping...\n",
      "Files for invalid-transactions already exist, skipping...\n",
      "Files for binary-search already exist, skipping...\n",
      "Files for sliding-puzzle already exist, skipping...\n",
      "Files for partition-array-into-three-parts-with-equal-sum already exist, skipping...\n",
      "Files for palindrome-pairs already exist, skipping...\n",
      "Files for minimum-bit-flips-to-convert-number already exist, skipping...\n",
      "Files for maximum-profit-of-operating-a-centennial-wheel already exist, skipping...\n",
      "Files for make-array-zero-by-subtracting-equal-amounts already exist, skipping...\n",
      "Files for next-greater-element-i already exist, skipping...\n",
      "Generating code stub for 107. binary-tree-level-order-traversal-ii\n"
     ]
    },
    {
     "name": "stderr",
     "output_type": "stream",
     "text": [
      "Generating code stubs:  15%|█▌        | 214/1414 [01:06<03:35,  5.56it/s]"
     ]
    },
    {
     "name": "stdout",
     "output_type": "stream",
     "text": [
      "Error with binary-tree-level-order-traversal-ii: malformed node or string on line 1: <ast.Name object at 0x14b5172b0>\n",
      "Files for make-k-subarray-sums-equal already exist, skipping...\n",
      "Files for node-with-highest-edge-score already exist, skipping...\n",
      "Files for minimum-cost-to-make-at-least-one-valid-path-in-a-grid already exist, skipping...\n",
      "Files for grid-game already exist, skipping...\n",
      "Files for check-if-point-is-reachable already exist, skipping...\n",
      "Files for average-value-of-even-numbers-that-are-divisible-by-three already exist, skipping...\n",
      "Files for delete-greatest-value-in-each-row already exist, skipping...\n",
      "Files for minimum-time-to-complete-trips already exist, skipping...\n",
      "Files for minimum-speed-to-arrive-on-time already exist, skipping...\n",
      "Files for count-the-repetitions already exist, skipping...\n",
      "Files for fizz-buzz already exist, skipping...\n",
      "Files for plus-one already exist, skipping...\n",
      "Files for number-of-ways-to-split-array already exist, skipping...\n",
      "Generating code stub for 80. remove-duplicates-from-sorted-array-ii\n"
     ]
    },
    {
     "name": "stderr",
     "output_type": "stream",
     "text": [
      "Generating code stubs:  16%|█▌        | 228/1414 [01:07<03:03,  6.46it/s]"
     ]
    },
    {
     "name": "stdout",
     "output_type": "stream",
     "text": [
      "Error with remove-duplicates-from-sorted-array-ii: local variable 'inp' referenced before assignment\n",
      "Files for frog-position-after-t-seconds already exist, skipping...\n",
      "Files for minimum-difference-between-highest-and-lowest-of-k-scores already exist, skipping...\n",
      "Files for valid-parenthesis-string already exist, skipping...\n",
      "Files for minimum-total-cost-to-make-arrays-unequal already exist, skipping...\n",
      "Files for find-the-array-concatenation-value already exist, skipping...\n",
      "Generating code stub for 106. construct-binary-tree-from-inorder-and-postorder-traversal\n"
     ]
    },
    {
     "name": "stderr",
     "output_type": "stream",
     "text": [
      "Generating code stubs:  17%|█▋        | 234/1414 [01:09<03:40,  5.36it/s]"
     ]
    },
    {
     "name": "stdout",
     "output_type": "stream",
     "text": [
      "Error with construct-binary-tree-from-inorder-and-postorder-traversal: malformed node or string on line 1: <ast.Name object at 0x16c0eb5e0>\n",
      "Generating code stub for 2660. determine-the-winner-of-a-bowling-game\n"
     ]
    },
    {
     "name": "stderr",
     "output_type": "stream",
     "text": [
      "Generating code stubs:  17%|█▋        | 235/1414 [01:11<04:40,  4.20it/s]"
     ]
    },
    {
     "name": "stdout",
     "output_type": "stream",
     "text": [
      "Error with determine-the-winner-of-a-bowling-game: list index out of range\n",
      "Files for powerful-integers already exist, skipping...\n",
      "Files for partition-array-according-to-given-pivot already exist, skipping...\n",
      "Files for find-kth-bit-in-nth-binary-string already exist, skipping...\n",
      "Files for rings-and-rods already exist, skipping...\n",
      "Files for corporate-flight-bookings already exist, skipping...\n",
      "Files for fizz-buzz already exist, skipping...\n",
      "Files for ransom-note already exist, skipping...\n",
      "Files for k-similar-strings already exist, skipping...\n",
      "Files for linked-list-cycle already exist, skipping...\n",
      "Files for minimum-cost-to-split-an-array already exist, skipping...\n",
      "Files for minimum-deletions-to-make-array-divisible already exist, skipping...\n",
      "Files for x-of-a-kind-in-a-deck-of-cards already exist, skipping...\n",
      "Files for plates-between-candles already exist, skipping...\n",
      "Files for create-components-with-same-value already exist, skipping...\n",
      "Files for scramble-string already exist, skipping...\n",
      "Files for valid-permutations-for-di-sequence already exist, skipping...\n",
      "Files for check-if-string-is-transformable-with-substring-sort-operations already exist, skipping...\n",
      "Files for maximum-elegance-of-a-k-length-subsequence already exist, skipping...\n",
      "Files for add-edges-to-make-degrees-of-all-nodes-even already exist, skipping...\n",
      "Files for excel-sheet-column-title already exist, skipping...\n",
      "Files for sum-of-absolute-differences-in-a-sorted-array already exist, skipping...\n",
      "Files for find-all-lonely-numbers-in-the-array already exist, skipping...\n",
      "Files for nim-game already exist, skipping...\n",
      "Files for minimize-maximum-pair-sum-in-array already exist, skipping...\n",
      "Files for restore-the-array already exist, skipping...\n",
      "Files for minimum-flips-to-make-a-or-b-equal-to-c already exist, skipping...\n",
      "Files for number-of-ways-to-split-a-string already exist, skipping...\n",
      "Files for sequential-digits already exist, skipping...\n",
      "Generating code stub for 427. construct-quad-tree\n"
     ]
    },
    {
     "name": "stderr",
     "output_type": "stream",
     "text": [
      "Generating code stubs:  19%|█▊        | 264/1414 [01:12<02:07,  9.04it/s]"
     ]
    },
    {
     "name": "stdout",
     "output_type": "stream",
     "text": [
      "Error with construct-quad-tree: malformed node or string on line 1: <ast.Name object at 0x12fe8d8a0>\n",
      "Generating code stub for 80. remove-duplicates-from-sorted-array-ii\n"
     ]
    },
    {
     "name": "stderr",
     "output_type": "stream",
     "text": [
      "Generating code stubs:  19%|█▉        | 266/1414 [01:14<03:13,  5.92it/s]"
     ]
    },
    {
     "name": "stdout",
     "output_type": "stream",
     "text": [
      "Error with remove-duplicates-from-sorted-array-ii: local variable 'inp' referenced before assignment\n",
      "Files for remove-linked-list-elements already exist, skipping...\n",
      "Files for delete-operation-for-two-strings already exist, skipping...\n",
      "Files for third-maximum-number already exist, skipping...\n",
      "Files for verifying-an-alien-dictionary already exist, skipping...\n",
      "Files for pascals-triangle already exist, skipping...\n",
      "Files for split-linked-list-in-parts already exist, skipping...\n",
      "Files for check-if-one-string-swap-can-make-strings-equal already exist, skipping...\n",
      "Files for disconnect-path-in-a-binary-matrix-by-at-most-one-flip already exist, skipping...\n",
      "Generating code stub for 513. find-bottom-left-tree-value\n"
     ]
    },
    {
     "name": "stderr",
     "output_type": "stream",
     "text": [
      "Generating code stubs:  19%|█▉        | 274/1414 [01:17<04:14,  4.48it/s]"
     ]
    },
    {
     "name": "stdout",
     "output_type": "stream",
     "text": [
      "Error with find-bottom-left-tree-value: malformed node or string on line 1: <ast.Name object at 0x16c093970>\n",
      "Generating code stub for 897. increasing-order-search-tree\n"
     ]
    },
    {
     "name": "stderr",
     "output_type": "stream",
     "text": [
      "Generating code stubs:  19%|█▉        | 275/1414 [01:19<05:45,  3.30it/s]"
     ]
    },
    {
     "name": "stdout",
     "output_type": "stream",
     "text": [
      "Error with increasing-order-search-tree: malformed node or string on line 1: <ast.Name object at 0x12fcac160>\n",
      "Files for check-if-there-is-a-valid-partition-for-the-array already exist, skipping...\n",
      "Files for lexicographically-smallest-palindrome already exist, skipping...\n",
      "Files for can-place-flowers already exist, skipping...\n",
      "Generating code stub for 80. remove-duplicates-from-sorted-array-ii\n"
     ]
    },
    {
     "name": "stderr",
     "output_type": "stream",
     "text": [
      "Generating code stubs:  20%|█▉        | 279/1414 [01:21<06:29,  2.91it/s]"
     ]
    },
    {
     "name": "stdout",
     "output_type": "stream",
     "text": [
      "Error with remove-duplicates-from-sorted-array-ii: local variable 'inp' referenced before assignment\n",
      "Files for edit-distance already exist, skipping...\n",
      "Files for sort-colors already exist, skipping...\n",
      "Files for most-common-word already exist, skipping...\n",
      "Files for longest-substring-with-at-least-k-repeating-characters already exist, skipping...\n",
      "Files for find-the-middle-index-in-array already exist, skipping...\n",
      "Generating code stub for 559. maximum-depth-of-n-ary-tree\n"
     ]
    },
    {
     "name": "stderr",
     "output_type": "stream",
     "text": [
      "Generating code stubs:  20%|██        | 285/1414 [01:23<06:28,  2.91it/s]"
     ]
    },
    {
     "name": "stdout",
     "output_type": "stream",
     "text": [
      "Error with maximum-depth-of-n-ary-tree: malformed node or string on line 1: <ast.Name object at 0x14971dbd0>\n",
      "Files for minimum-cost-to-cut-a-stick already exist, skipping...\n",
      "Files for calculate-money-in-leetcode-bank already exist, skipping...\n",
      "Files for longest-subsequence-with-limited-sum already exist, skipping...\n",
      "Files for maximum-number-of-moves-in-a-grid already exist, skipping...\n",
      "Files for course-schedule already exist, skipping...\n",
      "Files for satisfiability-of-equality-equations already exist, skipping...\n",
      "Generating code stub for 109. convert-sorted-list-to-binary-search-tree\n"
     ]
    },
    {
     "name": "stderr",
     "output_type": "stream",
     "text": [
      "Generating code stubs:  21%|██        | 292/1414 [01:25<05:50,  3.20it/s]"
     ]
    },
    {
     "name": "stdout",
     "output_type": "stream",
     "text": [
      "Error with convert-sorted-list-to-binary-search-tree: malformed node or string on line 1: <ast.Name object at 0x12fcae5f0>\n",
      "Files for minimum-cost-to-make-at-least-one-valid-path-in-a-grid already exist, skipping...\n",
      "Files for count-equal-and-divisible-pairs-in-an-array already exist, skipping...\n",
      "Files for substrings-of-size-three-with-distinct-characters already exist, skipping...\n",
      "Files for count-subtrees-with-max-distance-between-cities already exist, skipping...\n",
      "Files for next-greater-element-iv already exist, skipping...\n",
      "Files for minimum-obstacle-removal-to-reach-corner already exist, skipping...\n",
      "Generating code stub for 1367. linked-list-in-binary-tree\n"
     ]
    },
    {
     "name": "stderr",
     "output_type": "stream",
     "text": [
      "Generating code stubs:  21%|██        | 299/1414 [01:27<05:27,  3.41it/s]"
     ]
    },
    {
     "name": "stdout",
     "output_type": "stream",
     "text": [
      "Error with linked-list-in-binary-tree: malformed node or string on line 1: <ast.Name object at 0x12fe8ce20>\n",
      "Files for stone-game-vi already exist, skipping...\n",
      "Files for find-the-array-concatenation-value already exist, skipping...\n",
      "Files for check-if-every-row-and-column-contains-all-numbers already exist, skipping...\n",
      "Files for maximum-gap already exist, skipping...\n",
      "Files for minimum-index-sum-of-two-lists already exist, skipping...\n",
      "Files for median-of-two-sorted-arrays already exist, skipping...\n",
      "Files for reverse-subarray-to-maximize-array-value already exist, skipping...\n",
      "Files for make-costs-of-paths-equal-in-a-binary-tree already exist, skipping...\n",
      "Files for minimum-difference-between-highest-and-lowest-of-k-scores already exist, skipping...\n",
      "Files for partition-string-into-substrings-with-values-at-most-k already exist, skipping...\n",
      "Generating code stub for 104. maximum-depth-of-binary-tree\n"
     ]
    },
    {
     "name": "stderr",
     "output_type": "stream",
     "text": [
      "Generating code stubs:  22%|██▏       | 310/1414 [01:28<04:13,  4.36it/s]"
     ]
    },
    {
     "name": "stdout",
     "output_type": "stream",
     "text": [
      "Error with maximum-depth-of-binary-tree: malformed node or string on line 1: <ast.Name object at 0x16c0a0070>\n",
      "Files for making-file-names-unique already exist, skipping...\n",
      "Files for find-peak-element already exist, skipping...\n",
      "Files for longest-cycle-in-a-graph already exist, skipping...\n",
      "Files for best-time-to-buy-and-sell-stock-ii already exist, skipping...\n",
      "Generating code stub for 2583. kth-largest-sum-in-a-binary-tree\n"
     ]
    },
    {
     "name": "stderr",
     "output_type": "stream",
     "text": [
      "Generating code stubs:  22%|██▏       | 315/1414 [01:29<04:19,  4.24it/s]"
     ]
    },
    {
     "name": "stdout",
     "output_type": "stream",
     "text": [
      "Error with kth-largest-sum-in-a-binary-tree: malformed node or string on line 1: <ast.Name object at 0x16c093c10>\n",
      "Generating code stub for 1026. maximum-difference-between-node-and-ancestor\n"
     ]
    },
    {
     "name": "stderr",
     "output_type": "stream",
     "text": [
      "Generating code stubs:  22%|██▏       | 316/1414 [01:32<06:13,  2.94it/s]"
     ]
    },
    {
     "name": "stdout",
     "output_type": "stream",
     "text": [
      "Error with maximum-difference-between-node-and-ancestor: malformed node or string on line 1: <ast.Name object at 0x16c093f70>\n",
      "Files for minimum-obstacle-removal-to-reach-corner already exist, skipping...\n",
      "Files for closest-dessert-cost already exist, skipping...\n",
      "Files for find-all-possible-recipes-from-given-supplies already exist, skipping...\n",
      "Files for valid-arrangement-of-pairs already exist, skipping...\n",
      "Files for count-the-repetitions already exist, skipping...\n",
      "Files for maximum-of-absolute-value-expression already exist, skipping...\n",
      "Files for number-complement already exist, skipping...\n",
      "Generating code stub for 105. construct-binary-tree-from-preorder-and-inorder-traversal\n"
     ]
    },
    {
     "name": "stderr",
     "output_type": "stream",
     "text": [
      "Generating code stubs:  23%|██▎       | 324/1414 [01:33<05:08,  3.53it/s]"
     ]
    },
    {
     "name": "stdout",
     "output_type": "stream",
     "text": [
      "Error with construct-binary-tree-from-preorder-and-inorder-traversal: malformed node or string on line 1: <ast.Name object at 0x16c04a2f0>\n",
      "Files for check-if-every-row-and-column-contains-all-numbers already exist, skipping...\n",
      "Files for moving-stones-until-consecutive-ii already exist, skipping...\n",
      "Files for number-of-ways-of-cutting-a-pizza already exist, skipping...\n",
      "Files for restore-ip-addresses already exist, skipping...\n",
      "Files for partition-array-according-to-given-pivot already exist, skipping...\n",
      "Files for linked-list-cycle already exist, skipping...\n",
      "Files for all-ancestors-of-a-node-in-a-directed-acyclic-graph already exist, skipping...\n",
      "Files for count-anagrams already exist, skipping...\n",
      "Files for how-many-numbers-are-smaller-than-the-current-number already exist, skipping...\n",
      "Files for sum-of-absolute-differences-in-a-sorted-array already exist, skipping...\n",
      "Files for valid-permutations-for-di-sequence already exist, skipping...\n",
      "Files for check-if-there-is-a-valid-partition-for-the-array already exist, skipping...\n",
      "Files for can-place-flowers already exist, skipping...\n",
      "Files for check-if-string-is-transformable-with-substring-sort-operations already exist, skipping...\n",
      "Files for count-the-repetitions already exist, skipping...\n",
      "Files for valid-arrangement-of-pairs already exist, skipping...\n",
      "Files for maximize-number-of-nice-divisors already exist, skipping...\n",
      "Files for lexicographically-smallest-palindrome already exist, skipping...\n",
      "Files for find-kth-bit-in-nth-binary-string already exist, skipping...\n",
      "Files for restore-ip-addresses already exist, skipping...\n",
      "Files for valid-arrangement-of-pairs already exist, skipping...\n",
      "Files for count-the-repetitions already exist, skipping...\n",
      "Files for valid-arrangement-of-pairs already exist, skipping...\n",
      "Files for closest-dessert-cost already exist, skipping...\n",
      "Files for sliding-window-median already exist, skipping...\n",
      "Files for string-compression-ii already exist, skipping...\n",
      "Generating code stub for 911. online-election\n"
     ]
    },
    {
     "name": "stderr",
     "output_type": "stream",
     "text": [
      "Generating code stubs:  25%|██▍       | 351/1414 [01:34<02:08,  8.30it/s]"
     ]
    },
    {
     "name": "stdout",
     "output_type": "stream",
     "text": [
      "Error with online-election: local variable 'inp' referenced before assignment\n",
      "Generating code stub for 80. remove-duplicates-from-sorted-array-ii\n"
     ]
    },
    {
     "name": "stderr",
     "output_type": "stream",
     "text": [
      "Generating code stubs:  25%|██▍       | 353/1414 [01:36<02:56,  6.00it/s]"
     ]
    },
    {
     "name": "stdout",
     "output_type": "stream",
     "text": [
      "Error with remove-duplicates-from-sorted-array-ii: local variable 'inp' referenced before assignment\n",
      "Files for satisfiability-of-equality-equations already exist, skipping...\n",
      "Files for find-the-string-with-lcp already exist, skipping...\n",
      "Files for valid-arrangement-of-pairs already exist, skipping...\n",
      "Files for restore-ip-addresses already exist, skipping...\n",
      "Files for create-components-with-same-value already exist, skipping...\n",
      "Files for split-linked-list-in-parts already exist, skipping...\n",
      "Files for maximum-of-absolute-value-expression already exist, skipping...\n",
      "Files for median-of-two-sorted-arrays already exist, skipping...\n",
      "Files for find-closest-node-to-given-two-nodes already exist, skipping...\n",
      "Files for stone-game-vi already exist, skipping...\n",
      "Files for minimum-speed-to-arrive-on-time already exist, skipping...\n",
      "Files for check-if-string-is-transformable-with-substring-sort-operations already exist, skipping...\n",
      "Files for sum-of-subarray-minimums already exist, skipping...\n",
      "Files for string-compression-ii already exist, skipping...\n",
      "Files for partition-array-into-three-parts-with-equal-sum already exist, skipping...\n",
      "Files for median-of-two-sorted-arrays already exist, skipping...\n",
      "Files for valid-permutations-for-di-sequence already exist, skipping...\n",
      "Files for largest-number-after-mutating-substring already exist, skipping...\n",
      "Files for satisfiability-of-equality-equations already exist, skipping...\n",
      "Files for minimize-the-total-price-of-the-trips already exist, skipping...\n",
      "Files for count-the-repetitions already exist, skipping...\n",
      "Files for check-if-string-is-transformable-with-substring-sort-operations already exist, skipping...\n",
      "Files for create-components-with-same-value already exist, skipping...\n",
      "Files for median-of-two-sorted-arrays already exist, skipping...\n",
      "Files for find-all-possible-recipes-from-given-supplies already exist, skipping...\n",
      "Files for alternating-digit-sum already exist, skipping...\n",
      "Files for restore-ip-addresses already exist, skipping...\n",
      "Files for valid-arrangement-of-pairs already exist, skipping...\n",
      "Files for disconnect-path-in-a-binary-matrix-by-at-most-one-flip already exist, skipping...\n",
      "Files for count-anagrams already exist, skipping...\n",
      "Files for check-if-string-is-transformable-with-substring-sort-operations already exist, skipping...\n",
      "Files for find-kth-bit-in-nth-binary-string already exist, skipping...\n",
      "Files for find-closest-node-to-given-two-nodes already exist, skipping...\n",
      "Files for string-compression-ii already exist, skipping...\n",
      "Generating code stub for 897. increasing-order-search-tree\n"
     ]
    },
    {
     "name": "stderr",
     "output_type": "stream",
     "text": [
      "Generating code stubs:  27%|██▋       | 387/1414 [01:37<01:38, 10.40it/s]"
     ]
    },
    {
     "name": "stdout",
     "output_type": "stream",
     "text": [
      "Error with increasing-order-search-tree: malformed node or string on line 1: <ast.Name object at 0x14b3d4100>\n",
      "Files for kth-largest-element-in-an-array already exist, skipping...\n",
      "Files for closest-dessert-cost already exist, skipping...\n",
      "Files for grid-game already exist, skipping...\n",
      "Files for length-of-the-longest-valid-substring already exist, skipping...\n",
      "Generating code stub for 30. substring-with-concatenation-of-all-words\n"
     ]
    },
    {
     "name": "stderr",
     "output_type": "stream",
     "text": [
      "Generating code stubs:  28%|██▊       | 392/1414 [01:40<02:16,  7.50it/s]"
     ]
    },
    {
     "name": "stdout",
     "output_type": "stream",
     "text": [
      "Error with substring-with-concatenation-of-all-words: list index out of range\n",
      "Files for median-of-two-sorted-arrays already exist, skipping...\n",
      "Files for partition-string-into-substrings-with-values-at-most-k already exist, skipping...\n",
      "Files for valid-permutations-for-di-sequence already exist, skipping...\n",
      "Files for check-whether-two-strings-are-almost-equivalent already exist, skipping...\n",
      "Files for kth-largest-element-in-an-array already exist, skipping...\n",
      "Files for count-the-repetitions already exist, skipping...\n",
      "Files for average-value-of-even-numbers-that-are-divisible-by-three already exist, skipping...\n",
      "Files for check-if-two-string-arrays-are-equivalent already exist, skipping...\n",
      "Files for closest-dessert-cost already exist, skipping...\n",
      "Files for largest-positive-integer-that-exists-with-its-negative already exist, skipping...\n",
      "Files for can-place-flowers already exist, skipping...\n",
      "Files for check-if-every-row-and-column-contains-all-numbers already exist, skipping...\n",
      "Files for valid-permutations-for-di-sequence already exist, skipping...\n",
      "Files for valid-arrangement-of-pairs already exist, skipping...\n",
      "Files for length-of-the-longest-valid-substring already exist, skipping...\n",
      "Files for number-of-ways-of-cutting-a-pizza already exist, skipping...\n",
      "Files for check-if-two-string-arrays-are-equivalent already exist, skipping...\n",
      "Files for find-words-that-can-be-formed-by-characters already exist, skipping...\n",
      "Files for length-of-the-longest-valid-substring already exist, skipping...\n",
      "Generating code stub for 2734. lexicographically-smallest-string-after-substring-operation\n"
     ]
    },
    {
     "name": "stderr",
     "output_type": "stream",
     "text": [
      "Generating code stubs:  29%|██▉       | 412/1414 [01:41<01:56,  8.63it/s]"
     ]
    },
    {
     "name": "stdout",
     "output_type": "stream",
     "text": [
      "Error with lexicographically-smallest-string-after-substring-operation: list index out of range\n",
      "Files for moving-stones-until-consecutive-ii already exist, skipping...\n",
      "Files for unique-number-of-occurrences already exist, skipping...\n",
      "Files for restore-ip-addresses already exist, skipping...\n",
      "Files for kth-largest-element-in-an-array already exist, skipping...\n",
      "Files for restore-ip-addresses already exist, skipping...\n",
      "Files for valid-permutations-for-di-sequence already exist, skipping...\n",
      "Files for count-anagrams already exist, skipping...\n",
      "Files for length-of-the-longest-valid-substring already exist, skipping...\n",
      "Generating code stub for 107. binary-tree-level-order-traversal-ii\n"
     ]
    },
    {
     "name": "stderr",
     "output_type": "stream",
     "text": [
      "Generating code stubs:  30%|██▉       | 421/1414 [01:43<02:17,  7.21it/s]"
     ]
    },
    {
     "name": "stdout",
     "output_type": "stream",
     "text": [
      "Error with binary-tree-level-order-traversal-ii: malformed node or string on line 1: <ast.Name object at 0x12fe8d8a0>\n",
      "Files for count-anagrams already exist, skipping...\n",
      "Files for can-place-flowers already exist, skipping...\n",
      "Generating code stub for 107. binary-tree-level-order-traversal-ii\n"
     ]
    },
    {
     "name": "stderr",
     "output_type": "stream",
     "text": [
      "Generating code stubs:  30%|██▉       | 424/1414 [01:45<03:01,  5.45it/s]"
     ]
    },
    {
     "name": "stdout",
     "output_type": "stream",
     "text": [
      "Error with binary-tree-level-order-traversal-ii: malformed node or string on line 1: <ast.Name object at 0x12fe8dfc0>\n",
      "Files for baseball-game already exist, skipping...\n",
      "Generating code stub for 911. online-election\n"
     ]
    },
    {
     "name": "stderr",
     "output_type": "stream",
     "text": [
      "Generating code stubs:  30%|███       | 426/1414 [01:47<04:00,  4.11it/s]"
     ]
    },
    {
     "name": "stdout",
     "output_type": "stream",
     "text": [
      "Error with online-election: local variable 'inp' referenced before assignment\n",
      "Files for arithmetic-slices-ii-subsequence already exist, skipping...\n",
      "Files for find-the-middle-index-in-array already exist, skipping...\n",
      "Files for valid-arrangement-of-pairs already exist, skipping...\n",
      "Files for longest-happy-prefix already exist, skipping...\n",
      "Files for valid-arrangement-of-pairs already exist, skipping...\n",
      "Files for minimum-obstacle-removal-to-reach-corner already exist, skipping...\n",
      "Files for baseball-game already exist, skipping...\n",
      "Files for restore-ip-addresses already exist, skipping...\n",
      "Files for restore-ip-addresses already exist, skipping...\n",
      "Files for can-place-flowers already exist, skipping...\n",
      "Files for max-points-on-a-line already exist, skipping...\n",
      "Files for kth-largest-element-in-an-array already exist, skipping...\n",
      "Files for string-compression-ii already exist, skipping...\n",
      "Files for delete-greatest-value-in-each-row already exist, skipping...\n",
      "Files for closest-dessert-cost already exist, skipping...\n",
      "Files for median-of-two-sorted-arrays already exist, skipping...\n",
      "Files for length-of-the-longest-valid-substring already exist, skipping...\n",
      "Files for minimum-time-to-complete-trips already exist, skipping...\n",
      "Files for find-the-string-with-lcp already exist, skipping...\n",
      "Files for count-the-repetitions already exist, skipping...\n",
      "Files for minimum-time-to-complete-trips already exist, skipping...\n",
      "Files for closest-dessert-cost already exist, skipping...\n",
      "Generating code stub for 911. online-election\n"
     ]
    },
    {
     "name": "stderr",
     "output_type": "stream",
     "text": [
      "Generating code stubs:  32%|███▏      | 449/1414 [01:49<02:12,  7.26it/s]"
     ]
    },
    {
     "name": "stdout",
     "output_type": "stream",
     "text": [
      "Error with online-election: local variable 'inp' referenced before assignment\n",
      "Files for check-if-two-string-arrays-are-equivalent already exist, skipping...\n",
      "Files for sum-of-subarray-minimums already exist, skipping...\n",
      "Files for sequential-digits already exist, skipping...\n",
      "Files for median-of-two-sorted-arrays already exist, skipping...\n",
      "Files for longest-happy-prefix already exist, skipping...\n",
      "Files for sum-of-subarray-minimums already exist, skipping...\n",
      "Files for closest-dessert-cost already exist, skipping...\n",
      "Files for maximize-number-of-nice-divisors already exist, skipping...\n",
      "Files for count-number-of-maximum-bitwise-or-subsets already exist, skipping...\n",
      "Files for lexicographically-smallest-palindrome already exist, skipping...\n",
      "Files for sliding-window-median already exist, skipping...\n",
      "Files for check-if-string-is-transformable-with-substring-sort-operations already exist, skipping...\n",
      "Files for length-of-the-longest-valid-substring already exist, skipping...\n",
      "Generating code stub for 107. binary-tree-level-order-traversal-ii\n"
     ]
    },
    {
     "name": "stderr",
     "output_type": "stream",
     "text": [
      "Generating code stubs:  33%|███▎      | 463/1414 [01:50<02:01,  7.80it/s]"
     ]
    },
    {
     "name": "stdout",
     "output_type": "stream",
     "text": [
      "Error with binary-tree-level-order-traversal-ii: malformed node or string on line 1: <ast.Name object at 0x16c04a140>\n",
      "Files for palindrome-pairs already exist, skipping...\n",
      "Files for maximize-the-minimum-powered-city already exist, skipping...\n",
      "Generating code stub for 1367. linked-list-in-binary-tree\n"
     ]
    },
    {
     "name": "stderr",
     "output_type": "stream",
     "text": [
      "Generating code stubs:  33%|███▎      | 466/1414 [01:52<02:55,  5.40it/s]"
     ]
    },
    {
     "name": "stdout",
     "output_type": "stream",
     "text": [
      "Error with linked-list-in-binary-tree: malformed node or string on line 1: <ast.Name object at 0x173c87850>\n",
      "Files for k-th-smallest-in-lexicographical-order already exist, skipping...\n",
      "Files for valid-permutations-for-di-sequence already exist, skipping...\n",
      "Files for string-compression-ii already exist, skipping...\n",
      "Files for rearrange-words-in-a-sentence already exist, skipping...\n",
      "Files for minimum-number-of-steps-to-make-two-strings-anagram-ii already exist, skipping...\n",
      "Generating code stub for 2734. lexicographically-smallest-string-after-substring-operation\n"
     ]
    },
    {
     "name": "stderr",
     "output_type": "stream",
     "text": [
      "Generating code stubs:  33%|███▎      | 472/1414 [01:54<03:22,  4.66it/s]"
     ]
    },
    {
     "name": "stdout",
     "output_type": "stream",
     "text": [
      "Error with lexicographically-smallest-string-after-substring-operation: list index out of range\n",
      "Files for largest-positive-integer-that-exists-with-its-negative already exist, skipping...\n",
      "Files for minimize-the-total-price-of-the-trips already exist, skipping...\n",
      "Files for lexicographically-smallest-palindrome already exist, skipping...\n",
      "Files for check-if-string-is-transformable-with-substring-sort-operations already exist, skipping...\n",
      "Files for string-compression-ii already exist, skipping...\n",
      "Files for find-players-with-zero-or-one-losses already exist, skipping...\n",
      "Files for number-of-ways-of-cutting-a-pizza already exist, skipping...\n",
      "Files for sum-of-subarray-ranges already exist, skipping...\n",
      "Files for linked-list-cycle already exist, skipping...\n",
      "Files for count-the-repetitions already exist, skipping...\n",
      "Files for n-queens-ii already exist, skipping...\n",
      "Files for minimize-the-total-price-of-the-trips already exist, skipping...\n",
      "Files for kth-largest-element-in-an-array already exist, skipping...\n",
      "Files for check-whether-two-strings-are-almost-equivalent already exist, skipping...\n",
      "Files for find-kth-bit-in-nth-binary-string already exist, skipping...\n",
      "Generating code stub for 30. substring-with-concatenation-of-all-words\n"
     ]
    },
    {
     "name": "stderr",
     "output_type": "stream",
     "text": [
      "Generating code stubs:  35%|███▍      | 488/1414 [01:55<02:22,  6.52it/s]"
     ]
    },
    {
     "name": "stdout",
     "output_type": "stream",
     "text": [
      "Error with substring-with-concatenation-of-all-words: list index out of range\n",
      "Files for restore-the-array-from-adjacent-pairs already exist, skipping...\n",
      "Files for find-closest-node-to-given-two-nodes already exist, skipping...\n",
      "Files for find-closest-node-to-given-two-nodes already exist, skipping...\n",
      "Files for lexicographically-smallest-palindrome already exist, skipping...\n",
      "Files for find-all-possible-recipes-from-given-supplies already exist, skipping...\n",
      "Files for baseball-game already exist, skipping...\n",
      "Files for kth-largest-element-in-an-array already exist, skipping...\n",
      "Files for grid-game already exist, skipping...\n",
      "Files for valid-arrangement-of-pairs already exist, skipping...\n",
      "Files for minimum-index-sum-of-two-lists already exist, skipping...\n",
      "Files for number-complement already exist, skipping...\n",
      "Files for largest-positive-integer-that-exists-with-its-negative already exist, skipping...\n",
      "Files for median-of-two-sorted-arrays already exist, skipping...\n",
      "Files for valid-permutations-for-di-sequence already exist, skipping...\n",
      "Generating code stub for 107. binary-tree-level-order-traversal-ii\n"
     ]
    },
    {
     "name": "stderr",
     "output_type": "stream",
     "text": [
      "Generating code stubs:  36%|███▌      | 503/1414 [01:58<02:19,  6.55it/s]"
     ]
    },
    {
     "name": "stdout",
     "output_type": "stream",
     "text": [
      "Error with binary-tree-level-order-traversal-ii: malformed node or string on line 1: <ast.Name object at 0x14956cf70>\n",
      "Files for maximum-gap already exist, skipping...\n",
      "Files for kth-largest-element-in-an-array already exist, skipping...\n",
      "Files for lexicographically-smallest-palindrome already exist, skipping...\n",
      "Files for sum-of-subarray-minimums already exist, skipping...\n",
      "Files for restore-ip-addresses already exist, skipping...\n",
      "Files for valid-arrangement-of-pairs already exist, skipping...\n",
      "Files for median-of-two-sorted-arrays already exist, skipping...\n",
      "Files for find-closest-node-to-given-two-nodes already exist, skipping...\n",
      "Files for find-the-string-with-lcp already exist, skipping...\n",
      "Files for decode-the-slanted-ciphertext already exist, skipping...\n",
      "Files for find-closest-node-to-given-two-nodes already exist, skipping...\n",
      "Files for adding-two-negabinary-numbers already exist, skipping...\n",
      "Files for can-place-flowers already exist, skipping...\n",
      "Generating code stub for 427. construct-quad-tree\n"
     ]
    },
    {
     "name": "stderr",
     "output_type": "stream",
     "text": [
      "Generating code stubs:  37%|███▋      | 517/1414 [02:00<02:14,  6.69it/s]"
     ]
    },
    {
     "name": "stdout",
     "output_type": "stream",
     "text": [
      "Error with construct-quad-tree: malformed node or string on line 1: <ast.Name object at 0x119f6ffa0>\n",
      "Files for check-if-two-string-arrays-are-equivalent already exist, skipping...\n",
      "Files for can-place-flowers already exist, skipping...\n",
      "Files for number-complement already exist, skipping...\n",
      "Files for length-of-the-longest-valid-substring already exist, skipping...\n",
      "Files for count-the-repetitions already exist, skipping...\n",
      "Files for count-the-repetitions already exist, skipping...\n",
      "Files for kth-largest-element-in-an-array already exist, skipping...\n",
      "Files for minimum-flips-to-make-a-or-b-equal-to-c already exist, skipping...\n",
      "Files for check-if-string-is-transformable-with-substring-sort-operations already exist, skipping...\n",
      "Files for median-of-two-sorted-arrays already exist, skipping...\n",
      "Files for restore-ip-addresses already exist, skipping...\n",
      "Files for find-words-that-can-be-formed-by-characters already exist, skipping...\n",
      "Files for maximum-gap already exist, skipping...\n",
      "Files for moving-stones-until-consecutive-ii already exist, skipping...\n",
      "Files for find-closest-node-to-given-two-nodes already exist, skipping...\n",
      "Files for largest-number-after-mutating-substring already exist, skipping...\n",
      "Files for count-the-repetitions already exist, skipping...\n",
      "Files for check-if-string-is-transformable-with-substring-sort-operations already exist, skipping...\n",
      "Generating code stub for 107. binary-tree-level-order-traversal-ii\n"
     ]
    },
    {
     "name": "stderr",
     "output_type": "stream",
     "text": [
      "Generating code stubs:  38%|███▊      | 536/1414 [02:01<01:37,  8.97it/s]"
     ]
    },
    {
     "name": "stdout",
     "output_type": "stream",
     "text": [
      "Error with binary-tree-level-order-traversal-ii: malformed node or string on line 1: <ast.Name object at 0x12fe8ee60>\n",
      "Files for split-linked-list-in-parts already exist, skipping...\n",
      "Files for number-complement already exist, skipping...\n",
      "Files for closest-dessert-cost already exist, skipping...\n",
      "Files for count-the-repetitions already exist, skipping...\n",
      "Files for kth-largest-element-in-an-array already exist, skipping...\n",
      "Files for valid-arrangement-of-pairs already exist, skipping...\n",
      "Files for string-compression-ii already exist, skipping...\n",
      "Files for disconnect-path-in-a-binary-matrix-by-at-most-one-flip already exist, skipping...\n",
      "Files for number-complement already exist, skipping...\n",
      "Files for valid-permutations-for-di-sequence already exist, skipping...\n",
      "Files for fizz-buzz already exist, skipping...\n",
      "Files for valid-arrangement-of-pairs already exist, skipping...\n",
      "Files for number-of-ways-of-cutting-a-pizza already exist, skipping...\n",
      "Files for find-the-string-with-lcp already exist, skipping...\n",
      "Generating code stub for 107. binary-tree-level-order-traversal-ii\n"
     ]
    },
    {
     "name": "stderr",
     "output_type": "stream",
     "text": [
      "Generating code stubs:  39%|███▉      | 551/1414 [02:03<01:49,  7.90it/s]"
     ]
    },
    {
     "name": "stdout",
     "output_type": "stream",
     "text": [
      "Error with binary-tree-level-order-traversal-ii: malformed node or string on line 1: <ast.Name object at 0x12fe8d690>\n",
      "Files for count-the-repetitions already exist, skipping...\n",
      "Files for check-if-string-is-transformable-with-substring-sort-operations already exist, skipping...\n",
      "Files for how-many-numbers-are-smaller-than-the-current-number already exist, skipping...\n",
      "Files for find-kth-bit-in-nth-binary-string already exist, skipping...\n",
      "Files for best-time-to-buy-and-sell-stock-ii already exist, skipping...\n",
      "Files for kth-largest-element-in-an-array already exist, skipping...\n",
      "Files for median-of-two-sorted-arrays already exist, skipping...\n",
      "Files for check-if-string-is-transformable-with-substring-sort-operations already exist, skipping...\n",
      "Files for median-of-two-sorted-arrays already exist, skipping...\n",
      "Files for self-dividing-numbers already exist, skipping...\n",
      "Generating code stub for 107. binary-tree-level-order-traversal-ii\n"
     ]
    },
    {
     "name": "stderr",
     "output_type": "stream",
     "text": [
      "Generating code stubs:  40%|███▉      | 562/1414 [02:05<01:49,  7.75it/s]"
     ]
    },
    {
     "name": "stdout",
     "output_type": "stream",
     "text": [
      "Error with binary-tree-level-order-traversal-ii: malformed node or string on line 1: <ast.Name object at 0x12fe8dae0>\n",
      "Files for valid-arrangement-of-pairs already exist, skipping...\n",
      "Files for median-of-two-sorted-arrays already exist, skipping...\n",
      "Files for last-moment-before-all-ants-fall-out-of-a-plank already exist, skipping...\n",
      "Files for n-th-tribonacci-number already exist, skipping...\n",
      "Files for sort-an-array already exist, skipping...\n",
      "Generating code stub for 911. online-election\n"
     ]
    },
    {
     "name": "stderr",
     "output_type": "stream",
     "text": [
      "Generating code stubs:  40%|████      | 568/1414 [02:06<02:05,  6.72it/s]"
     ]
    },
    {
     "name": "stdout",
     "output_type": "stream",
     "text": [
      "Error with online-election: local variable 'inp' referenced before assignment\n",
      "Files for arithmetic-slices-ii-subsequence already exist, skipping...\n",
      "Files for maximize-the-minimum-powered-city already exist, skipping...\n",
      "Files for baseball-game already exist, skipping...\n",
      "Files for count-anagrams already exist, skipping...\n",
      "Files for capitalize-the-title already exist, skipping...\n",
      "Files for find-all-possible-recipes-from-given-supplies already exist, skipping...\n",
      "Files for check-whether-two-strings-are-almost-equivalent already exist, skipping...\n",
      "Files for arithmetic-slices-ii-subsequence already exist, skipping...\n",
      "Files for maximum-distance-between-a-pair-of-values already exist, skipping...\n",
      "Generating code stub for 594. longest-harmonious-subsequence\n"
     ]
    },
    {
     "name": "stderr",
     "output_type": "stream",
     "text": [
      "Generating code stubs:  41%|████      | 578/1414 [02:08<02:10,  6.41it/s]"
     ]
    },
    {
     "name": "stdout",
     "output_type": "stream",
     "text": [
      "Error with longest-harmonious-subsequence: list index out of range\n",
      "Files for longest-repeating-character-replacement already exist, skipping...\n",
      "Files for adding-two-negabinary-numbers already exist, skipping...\n",
      "Files for frog-position-after-t-seconds already exist, skipping...\n",
      "Files for minimum-number-of-steps-to-make-two-strings-anagram-ii already exist, skipping...\n",
      "Generating code stub for 2734. lexicographically-smallest-string-after-substring-operation\n"
     ]
    },
    {
     "name": "stderr",
     "output_type": "stream",
     "text": [
      "Generating code stubs:  41%|████      | 583/1414 [02:09<02:23,  5.78it/s]"
     ]
    },
    {
     "name": "stdout",
     "output_type": "stream",
     "text": [
      "Error with lexicographically-smallest-string-after-substring-operation: list index out of range\n",
      "Files for next-greater-element-i already exist, skipping...\n",
      "Files for count-good-numbers already exist, skipping...\n",
      "Generating code stub for 190. reverse-bits\n"
     ]
    },
    {
     "name": "stderr",
     "output_type": "stream",
     "text": [
      "Generating code stubs:  41%|████▏     | 586/1414 [02:11<03:21,  4.12it/s]"
     ]
    },
    {
     "name": "stdout",
     "output_type": "stream",
     "text": [
      "Error with reverse-bits: leading zeros in decimal integer literals are not permitted; use an 0o prefix for octal integers (<unknown>, line 1)\n",
      "Files for alternating-digit-sum already exist, skipping...\n",
      "Files for length-of-the-longest-valid-substring already exist, skipping...\n",
      "Files for minimum-subsequence-in-non-increasing-order already exist, skipping...\n",
      "Files for kth-largest-element-in-an-array already exist, skipping...\n",
      "Files for maximize-number-of-nice-divisors already exist, skipping...\n",
      "Files for maximum-sum-queries already exist, skipping...\n",
      "Files for maximum-strength-of-a-group already exist, skipping...\n",
      "Files for largest-positive-integer-that-exists-with-its-negative already exist, skipping...\n",
      "Files for longest-cycle-in-a-graph already exist, skipping...\n",
      "Files for kth-missing-positive-number already exist, skipping...\n",
      "Files for longest-word-in-dictionary-through-deleting already exist, skipping...\n",
      "Files for number-complement already exist, skipping...\n",
      "Generating code stub for 706. design-hashmap\n"
     ]
    },
    {
     "name": "stderr",
     "output_type": "stream",
     "text": [
      "Generating code stubs:  42%|████▏     | 599/1414 [02:14<02:59,  4.55it/s]"
     ]
    },
    {
     "name": "stdout",
     "output_type": "stream",
     "text": [
      "Error with design-hashmap: local variable 'inp' referenced before assignment\n",
      "Files for find-the-kth-largest-integer-in-the-array already exist, skipping...\n",
      "Files for minimum-fuel-cost-to-report-to-the-capital already exist, skipping...\n",
      "Files for check-if-two-string-arrays-are-equivalent already exist, skipping...\n",
      "Files for string-compression-ii already exist, skipping...\n",
      "Files for longest-well-performing-interval already exist, skipping...\n",
      "Files for longest-happy-prefix already exist, skipping...\n",
      "Files for best-time-to-buy-and-sell-stock-with-cooldown already exist, skipping...\n",
      "Generating code stub for 2385. amount-of-time-for-binary-tree-to-be-infected\n"
     ]
    },
    {
     "name": "stderr",
     "output_type": "stream",
     "text": [
      "Generating code stubs:  43%|████▎     | 607/1414 [02:16<02:58,  4.53it/s]"
     ]
    },
    {
     "name": "stdout",
     "output_type": "stream",
     "text": [
      "Error with amount-of-time-for-binary-tree-to-be-infected: malformed node or string on line 1: <ast.Name object at 0x16c049fc0>\n",
      "Files for maximum-of-absolute-value-expression already exist, skipping...\n",
      "Files for rank-transform-of-an-array already exist, skipping...\n",
      "Files for find-the-string-with-lcp already exist, skipping...\n",
      "Files for find-first-palindromic-string-in-the-array already exist, skipping...\n",
      "Files for koko-eating-bananas already exist, skipping...\n",
      "Generating code stub for 1026. maximum-difference-between-node-and-ancestor\n"
     ]
    },
    {
     "name": "stderr",
     "output_type": "stream",
     "text": [
      "Generating code stubs:  43%|████▎     | 613/1414 [02:18<03:16,  4.08it/s]"
     ]
    },
    {
     "name": "stdout",
     "output_type": "stream",
     "text": [
      "Error with maximum-difference-between-node-and-ancestor: malformed node or string on line 1: <ast.Name object at 0x12fccba30>\n",
      "Generating code stub for 916. word-subsets\n"
     ]
    },
    {
     "name": "stderr",
     "output_type": "stream",
     "text": [
      "Generating code stubs:  43%|████▎     | 614/1414 [02:20<04:37,  2.88it/s]"
     ]
    },
    {
     "name": "stdout",
     "output_type": "stream",
     "text": [
      "Error with word-subsets: list index out of range\n",
      "Files for construct-the-longest-new-string already exist, skipping...\n",
      "Generating code stub for 30. substring-with-concatenation-of-all-words\n"
     ]
    },
    {
     "name": "stderr",
     "output_type": "stream",
     "text": [
      "Generating code stubs:  44%|████▎     | 616/1414 [02:21<05:19,  2.50it/s]"
     ]
    },
    {
     "name": "stdout",
     "output_type": "stream",
     "text": [
      "Error with substring-with-concatenation-of-all-words: list index out of range\n",
      "Files for reverse-nodes-in-k-group already exist, skipping...\n",
      "Files for card-flipping-game already exist, skipping...\n",
      "Files for unique-number-of-occurrences already exist, skipping...\n",
      "Files for check-if-string-is-transformable-with-substring-sort-operations already exist, skipping...\n",
      "Files for number-of-ways-of-cutting-a-pizza already exist, skipping...\n",
      "Files for alternating-digit-sum already exist, skipping...\n",
      "Files for self-dividing-numbers already exist, skipping...\n",
      "Files for fibonacci-number already exist, skipping...\n",
      "Files for count-number-of-maximum-bitwise-or-subsets already exist, skipping...\n",
      "Files for distribute-candies already exist, skipping...\n",
      "Files for jump-game-ii already exist, skipping...\n",
      "Files for stone-game-vi already exist, skipping...\n",
      "Files for check-whether-two-strings-are-almost-equivalent already exist, skipping...\n",
      "Generating code stub for 988. smallest-string-starting-from-leaf\n"
     ]
    },
    {
     "name": "stderr",
     "output_type": "stream",
     "text": [
      "Generating code stubs:  45%|████▍     | 630/1414 [02:24<03:37,  3.60it/s]"
     ]
    },
    {
     "name": "stdout",
     "output_type": "stream",
     "text": [
      "Error with smallest-string-starting-from-leaf: malformed node or string on line 1: <ast.Name object at 0x14b681e40>\n",
      "Files for reverse-nodes-in-k-group already exist, skipping...\n",
      "Files for minimum-number-of-steps-to-make-two-strings-anagram-ii already exist, skipping...\n",
      "Files for decode-the-slanted-ciphertext already exist, skipping...\n",
      "Files for number-complement already exist, skipping...\n",
      "Files for count-number-of-maximum-bitwise-or-subsets already exist, skipping...\n",
      "Files for replace-elements-in-an-array already exist, skipping...\n",
      "Files for longest-well-performing-interval already exist, skipping...\n",
      "Files for minimum-flips-to-make-a-or-b-equal-to-c already exist, skipping...\n",
      "Files for partition-string-into-substrings-with-values-at-most-k already exist, skipping...\n",
      "Files for fizz-buzz already exist, skipping...\n",
      "Files for maximize-the-minimum-powered-city already exist, skipping...\n",
      "Generating code stub for 1305. all-elements-in-two-binary-search-trees\n"
     ]
    },
    {
     "name": "stderr",
     "output_type": "stream",
     "text": [
      "Generating code stubs:  45%|████▌     | 642/1414 [02:27<03:28,  3.70it/s]"
     ]
    },
    {
     "name": "stdout",
     "output_type": "stream",
     "text": [
      "Error with all-elements-in-two-binary-search-trees: malformed node or string on line 1: <ast.Name object at 0x149d25630>\n",
      "Files for largest-number-after-digit-swaps-by-parity already exist, skipping...\n",
      "Files for minimum-distance-to-the-target-element already exist, skipping...\n",
      "Files for number-of-ways-of-cutting-a-pizza already exist, skipping...\n",
      "Files for find-the-middle-index-in-array already exist, skipping...\n",
      "Files for satisfiability-of-equality-equations already exist, skipping...\n",
      "Files for all-ancestors-of-a-node-in-a-directed-acyclic-graph already exist, skipping...\n",
      "Generating code stub for 1339. maximum-product-of-splitted-binary-tree\n"
     ]
    },
    {
     "name": "stderr",
     "output_type": "stream",
     "text": [
      "Generating code stubs:  46%|████▌     | 649/1414 [02:29<03:23,  3.76it/s]"
     ]
    },
    {
     "name": "stdout",
     "output_type": "stream",
     "text": [
      "Error with maximum-product-of-splitted-binary-tree: malformed node or string on line 1: <ast.Name object at 0x12fe8fac0>\n",
      "Files for max-points-on-a-line already exist, skipping...\n",
      "Files for minimize-the-total-price-of-the-trips already exist, skipping...\n",
      "Files for neighboring-bitwise-xor already exist, skipping...\n",
      "Files for partition-array-into-three-parts-with-equal-sum already exist, skipping...\n",
      "Files for maximum-strength-of-a-group already exist, skipping...\n",
      "Files for make-costs-of-paths-equal-in-a-binary-tree already exist, skipping...\n",
      "Files for count-subtrees-with-max-distance-between-cities already exist, skipping...\n",
      "Files for minimum-time-to-complete-trips already exist, skipping...\n",
      "Generating code stub for 427. construct-quad-tree\n"
     ]
    },
    {
     "name": "stderr",
     "output_type": "stream",
     "text": [
      "Generating code stubs:  47%|████▋     | 658/1414 [02:31<03:01,  4.16it/s]"
     ]
    },
    {
     "name": "stdout",
     "output_type": "stream",
     "text": [
      "Error with construct-quad-tree: malformed node or string on line 1: <ast.Name object at 0x16c0937f0>\n",
      "Files for best-time-to-buy-and-sell-stock-ii already exist, skipping...\n",
      "Files for sliding-puzzle already exist, skipping...\n",
      "Files for reachable-nodes-with-restrictions already exist, skipping...\n",
      "Files for check-if-every-row-and-column-contains-all-numbers already exist, skipping...\n",
      "Files for corporate-flight-bookings already exist, skipping...\n",
      "Files for split-linked-list-in-parts already exist, skipping...\n",
      "Files for merge-k-sorted-lists already exist, skipping...\n",
      "Generating code stub for 94. binary-tree-inorder-traversal\n"
     ]
    },
    {
     "name": "stderr",
     "output_type": "stream",
     "text": [
      "Generating code stubs:  47%|████▋     | 666/1414 [02:32<02:52,  4.33it/s]"
     ]
    },
    {
     "name": "stdout",
     "output_type": "stream",
     "text": [
      "Error with binary-tree-inorder-traversal: list index out of range\n",
      "Files for maximum-gap already exist, skipping...\n",
      "Files for fizz-buzz already exist, skipping...\n",
      "Files for minimum-obstacle-removal-to-reach-corner already exist, skipping...\n",
      "Files for can-place-flowers already exist, skipping...\n",
      "Files for check-if-string-is-transformable-with-substring-sort-operations already exist, skipping...\n",
      "Files for find-the-array-concatenation-value already exist, skipping...\n",
      "Generating code stub for 1026. maximum-difference-between-node-and-ancestor\n"
     ]
    },
    {
     "name": "stderr",
     "output_type": "stream",
     "text": [
      "Generating code stubs:  48%|████▊     | 673/1414 [02:35<03:20,  3.69it/s]"
     ]
    },
    {
     "name": "stdout",
     "output_type": "stream",
     "text": [
      "Error with maximum-difference-between-node-and-ancestor: malformed node or string on line 1: <ast.Name object at 0x12fe8f6a0>\n",
      "Generating code stub for 454. 4sum-ii\n"
     ]
    },
    {
     "name": "stderr",
     "output_type": "stream",
     "text": [
      "Generating code stubs:  48%|████▊     | 674/1414 [02:37<04:32,  2.72it/s]"
     ]
    },
    {
     "name": "stdout",
     "output_type": "stream",
     "text": [
      "Code stub save to q_0454_4SumIi.py\n",
      "Test file written to test_q_0454_4SumIi.py.py\n",
      "Generating code stub for 107. binary-tree-level-order-traversal-ii\n"
     ]
    },
    {
     "name": "stderr",
     "output_type": "stream",
     "text": [
      "Generating code stubs:  48%|████▊     | 675/1414 [02:39<05:38,  2.18it/s]"
     ]
    },
    {
     "name": "stdout",
     "output_type": "stream",
     "text": [
      "Error with binary-tree-level-order-traversal-ii: malformed node or string on line 1: <ast.Name object at 0x14b6ac8b0>\n",
      "Generating code stub for 501. find-mode-in-binary-search-tree\n"
     ]
    },
    {
     "name": "stderr",
     "output_type": "stream",
     "text": [
      "Generating code stubs:  48%|████▊     | 676/1414 [02:41<07:35,  1.62it/s]"
     ]
    },
    {
     "name": "stdout",
     "output_type": "stream",
     "text": [
      "Error with find-mode-in-binary-search-tree: malformed node or string on line 1: <ast.Name object at 0x119f6ebf0>\n",
      "Files for neither-minimum-nor-maximum already exist, skipping...\n",
      "Files for n-queens-ii already exist, skipping...\n",
      "Files for maximum-profit-of-operating-a-centennial-wheel already exist, skipping...\n",
      "Files for count-the-repetitions already exist, skipping...\n",
      "Files for minimum-fuel-cost-to-report-to-the-capital already exist, skipping...\n",
      "Generating code stub for 478. generate-random-point-in-a-circle\n"
     ]
    },
    {
     "name": "stderr",
     "output_type": "stream",
     "text": [
      "Generating code stubs:  48%|████▊     | 682/1414 [02:43<05:50,  2.09it/s]"
     ]
    },
    {
     "name": "stdout",
     "output_type": "stream",
     "text": [
      "Error with generate-random-point-in-a-circle: local variable 'inp' referenced before assignment\n",
      "Generating code stub for 105. construct-binary-tree-from-preorder-and-inorder-traversal\n"
     ]
    },
    {
     "name": "stderr",
     "output_type": "stream",
     "text": [
      "Generating code stubs:  48%|████▊     | 683/1414 [02:44<06:41,  1.82it/s]"
     ]
    },
    {
     "name": "stdout",
     "output_type": "stream",
     "text": [
      "Error with construct-binary-tree-from-preorder-and-inorder-traversal: malformed node or string on line 1: <ast.Name object at 0x173b3cac0>\n",
      "Files for koko-eating-bananas already exist, skipping...\n",
      "Files for kth-largest-element-in-an-array already exist, skipping...\n",
      "Generating code stub for 2296. design-a-text-editor\n"
     ]
    },
    {
     "name": "stderr",
     "output_type": "stream",
     "text": [
      "Generating code stubs:  49%|████▊     | 686/1414 [02:45<06:25,  1.89it/s]"
     ]
    },
    {
     "name": "stdout",
     "output_type": "stream",
     "text": [
      "Error with design-a-text-editor: local variable 'inp' referenced before assignment\n",
      "Files for lexicographically-smallest-palindrome already exist, skipping...\n",
      "Generating code stub for 911. online-election\n"
     ]
    },
    {
     "name": "stderr",
     "output_type": "stream",
     "text": [
      "Generating code stubs:  49%|████▊     | 688/1414 [02:47<07:00,  1.73it/s]"
     ]
    },
    {
     "name": "stdout",
     "output_type": "stream",
     "text": [
      "Error with online-election: local variable 'inp' referenced before assignment\n",
      "Files for check-if-string-is-transformable-with-substring-sort-operations already exist, skipping...\n",
      "Files for find-words-that-can-be-formed-by-characters already exist, skipping...\n",
      "Files for count-the-repetitions already exist, skipping...\n",
      "Files for find-the-string-with-lcp already exist, skipping...\n",
      "Files for restore-ip-addresses already exist, skipping...\n",
      "Files for restore-ip-addresses already exist, skipping...\n",
      "Files for lexicographically-smallest-palindrome already exist, skipping...\n",
      "Files for check-if-string-is-transformable-with-substring-sort-operations already exist, skipping...\n",
      "Files for check-if-two-string-arrays-are-equivalent already exist, skipping...\n",
      "Files for count-the-repetitions already exist, skipping...\n",
      "Files for can-place-flowers already exist, skipping...\n",
      "Files for valid-arrangement-of-pairs already exist, skipping...\n",
      "Files for find-the-string-with-lcp already exist, skipping...\n",
      "Files for check-if-two-string-arrays-are-equivalent already exist, skipping...\n",
      "Files for maximize-number-of-nice-divisors already exist, skipping...\n",
      "Files for max-points-on-a-line already exist, skipping...\n",
      "Files for valid-permutations-for-di-sequence already exist, skipping...\n",
      "Files for count-anagrams already exist, skipping...\n",
      "Files for count-the-repetitions already exist, skipping...\n",
      "Files for length-of-the-longest-valid-substring already exist, skipping...\n",
      "Files for split-linked-list-in-parts already exist, skipping...\n",
      "Files for restore-ip-addresses already exist, skipping...\n",
      "Files for can-place-flowers already exist, skipping...\n",
      "Files for kth-largest-element-in-an-array already exist, skipping...\n",
      "Files for length-of-the-longest-valid-substring already exist, skipping...\n",
      "Files for find-closest-node-to-given-two-nodes already exist, skipping...\n",
      "Files for kth-largest-element-in-an-array already exist, skipping...\n",
      "Files for median-of-two-sorted-arrays already exist, skipping...\n",
      "Files for find-the-string-with-lcp already exist, skipping...\n",
      "Files for string-compression-ii already exist, skipping...\n",
      "Files for check-if-string-is-transformable-with-substring-sort-operations already exist, skipping...\n",
      "Files for median-of-two-sorted-arrays already exist, skipping...\n",
      "Files for find-closest-node-to-given-two-nodes already exist, skipping...\n",
      "Files for valid-arrangement-of-pairs already exist, skipping...\n",
      "Files for satisfiability-of-equality-equations already exist, skipping...\n",
      "Files for number-of-ways-of-cutting-a-pizza already exist, skipping...\n",
      "Files for largest-positive-integer-that-exists-with-its-negative already exist, skipping...\n",
      "Files for baseball-game already exist, skipping...\n",
      "Files for kth-largest-element-in-an-array already exist, skipping...\n",
      "Files for minimum-obstacle-removal-to-reach-corner already exist, skipping...\n",
      "Files for minimum-index-sum-of-two-lists already exist, skipping...\n",
      "Files for length-of-the-longest-valid-substring already exist, skipping...\n",
      "Files for sum-of-subarray-minimums already exist, skipping...\n",
      "Files for sliding-window-median already exist, skipping...\n",
      "Files for satisfiability-of-equality-equations already exist, skipping...\n",
      "Files for find-all-possible-recipes-from-given-supplies already exist, skipping...\n",
      "Files for kth-largest-element-in-an-array already exist, skipping...\n",
      "Files for median-of-two-sorted-arrays already exist, skipping...\n",
      "Files for valid-permutations-for-di-sequence already exist, skipping...\n",
      "Files for length-of-the-longest-valid-substring already exist, skipping...\n",
      "Generating code stub for 2078. two-furthest-houses-with-different-colors\n"
     ]
    },
    {
     "name": "stderr",
     "output_type": "stream",
     "text": [
      "Generating code stubs:  52%|█████▏    | 739/1414 [02:49<01:04, 10.43it/s]"
     ]
    },
    {
     "name": "stdout",
     "output_type": "stream",
     "text": [
      "Error with two-furthest-houses-with-different-colors: invalid syntax (<unknown>, line 1)\n",
      "Files for kth-largest-element-in-an-array already exist, skipping...\n",
      "Files for valid-arrangement-of-pairs already exist, skipping...\n",
      "Files for next-greater-element-i already exist, skipping...\n",
      "Files for number-of-ways-of-cutting-a-pizza already exist, skipping...\n",
      "Files for median-of-two-sorted-arrays already exist, skipping...\n",
      "Files for sliding-window-median already exist, skipping...\n",
      "Files for number-of-ways-of-cutting-a-pizza already exist, skipping...\n",
      "Files for find-the-string-with-lcp already exist, skipping...\n",
      "Files for valid-arrangement-of-pairs already exist, skipping...\n",
      "Files for restore-ip-addresses already exist, skipping...\n",
      "Files for maximum-of-absolute-value-expression already exist, skipping...\n",
      "Files for can-place-flowers already exist, skipping...\n",
      "Files for length-of-the-longest-valid-substring already exist, skipping...\n",
      "Generating code stub for 107. binary-tree-level-order-traversal-ii\n"
     ]
    },
    {
     "name": "stderr",
     "output_type": "stream",
     "text": [
      "Generating code stubs:  53%|█████▎    | 753/1414 [02:50<01:02, 10.62it/s]"
     ]
    },
    {
     "name": "stdout",
     "output_type": "stream",
     "text": [
      "Error with binary-tree-level-order-traversal-ii: malformed node or string on line 1: <ast.Name object at 0x14971d4b0>\n",
      "Files for median-of-two-sorted-arrays already exist, skipping...\n",
      "Files for restore-ip-addresses already exist, skipping...\n",
      "Files for valid-arrangement-of-pairs already exist, skipping...\n",
      "Files for string-compression-ii already exist, skipping...\n",
      "Files for minimize-the-total-price-of-the-trips already exist, skipping...\n",
      "Files for linked-list-cycle already exist, skipping...\n",
      "Files for restore-ip-addresses already exist, skipping...\n",
      "Files for valid-arrangement-of-pairs already exist, skipping...\n",
      "Files for median-of-two-sorted-arrays already exist, skipping...\n",
      "Generating code stub for 107. binary-tree-level-order-traversal-ii\n"
     ]
    },
    {
     "name": "stderr",
     "output_type": "stream",
     "text": [
      "Generating code stubs:  54%|█████▍    | 763/1414 [02:52<01:12,  8.96it/s]"
     ]
    },
    {
     "name": "stdout",
     "output_type": "stream",
     "text": [
      "Error with binary-tree-level-order-traversal-ii: malformed node or string on line 1: <ast.Name object at 0x173c0c700>\n",
      "Files for can-place-flowers already exist, skipping...\n",
      "Files for length-of-the-longest-valid-substring already exist, skipping...\n",
      "Files for valid-arrangement-of-pairs already exist, skipping...\n",
      "Files for arithmetic-slices-ii-subsequence already exist, skipping...\n",
      "Files for count-the-repetitions already exist, skipping...\n",
      "Files for kth-largest-element-in-an-array already exist, skipping...\n",
      "Files for restore-ip-addresses already exist, skipping...\n",
      "Generating code stub for 107. binary-tree-level-order-traversal-ii\n"
     ]
    },
    {
     "name": "stderr",
     "output_type": "stream",
     "text": [
      "Generating code stubs:  55%|█████▍    | 771/1414 [02:53<01:17,  8.32it/s]"
     ]
    },
    {
     "name": "stdout",
     "output_type": "stream",
     "text": [
      "Error with binary-tree-level-order-traversal-ii: malformed node or string on line 1: <ast.Name object at 0x14b517250>\n",
      "Files for string-compression-ii already exist, skipping...\n",
      "Files for closest-dessert-cost already exist, skipping...\n",
      "Files for check-if-two-string-arrays-are-equivalent already exist, skipping...\n",
      "Files for length-of-the-longest-valid-substring already exist, skipping...\n",
      "Files for count-the-repetitions already exist, skipping...\n",
      "Files for find-closest-node-to-given-two-nodes already exist, skipping...\n",
      "Files for check-if-two-string-arrays-are-equivalent already exist, skipping...\n",
      "Files for count-the-repetitions already exist, skipping...\n",
      "Files for count-the-repetitions already exist, skipping...\n",
      "Generating code stub for 427. construct-quad-tree\n"
     ]
    },
    {
     "name": "stderr",
     "output_type": "stream",
     "text": [
      "Generating code stubs:  55%|█████▌    | 781/1414 [02:55<01:28,  7.17it/s]"
     ]
    },
    {
     "name": "stdout",
     "output_type": "stream",
     "text": [
      "Error with construct-quad-tree: malformed node or string on line 1: <ast.Name object at 0x14b4bf6a0>\n",
      "Files for closest-dessert-cost already exist, skipping...\n",
      "Files for check-if-string-is-transformable-with-substring-sort-operations already exist, skipping...\n",
      "Files for how-many-numbers-are-smaller-than-the-current-number already exist, skipping...\n",
      "Files for restore-ip-addresses already exist, skipping...\n",
      "Files for median-of-two-sorted-arrays already exist, skipping...\n",
      "Files for string-compression-ii already exist, skipping...\n",
      "Files for lexicographically-smallest-palindrome already exist, skipping...\n",
      "Files for check-if-two-string-arrays-are-equivalent already exist, skipping...\n",
      "Files for count-the-repetitions already exist, skipping...\n",
      "Files for median-of-two-sorted-arrays already exist, skipping...\n",
      "Generating code stub for 107. binary-tree-level-order-traversal-ii\n"
     ]
    },
    {
     "name": "stderr",
     "output_type": "stream",
     "text": [
      "Generating code stubs:  56%|█████▌    | 792/1414 [02:56<01:24,  7.34it/s]"
     ]
    },
    {
     "name": "stdout",
     "output_type": "stream",
     "text": [
      "Error with binary-tree-level-order-traversal-ii: malformed node or string on line 1: <ast.Name object at 0x173c873d0>\n",
      "Files for closest-dessert-cost already exist, skipping...\n",
      "Files for number-complement already exist, skipping...\n",
      "Files for check-if-every-row-and-column-contains-all-numbers already exist, skipping...\n",
      "Files for minimum-obstacle-removal-to-reach-corner already exist, skipping...\n",
      "Files for string-compression-ii already exist, skipping...\n",
      "Files for closest-dessert-cost already exist, skipping...\n",
      "Files for valid-arrangement-of-pairs already exist, skipping...\n",
      "Files for find-players-with-zero-or-one-losses already exist, skipping...\n",
      "Files for closest-dessert-cost already exist, skipping...\n",
      "Files for length-of-the-longest-valid-substring already exist, skipping...\n",
      "Files for closest-dessert-cost already exist, skipping...\n",
      "Files for median-of-two-sorted-arrays already exist, skipping...\n",
      "Files for valid-arrangement-of-pairs already exist, skipping...\n",
      "Generating code stub for 427. construct-quad-tree\n"
     ]
    },
    {
     "name": "stderr",
     "output_type": "stream",
     "text": [
      "Generating code stubs:  57%|█████▋    | 806/1414 [02:58<01:18,  7.73it/s]"
     ]
    },
    {
     "name": "stdout",
     "output_type": "stream",
     "text": [
      "Error with construct-quad-tree: malformed node or string on line 1: <ast.Name object at 0x16c0eaef0>\n",
      "Generating code stub for 2734. lexicographically-smallest-string-after-substring-operation\n"
     ]
    },
    {
     "name": "stderr",
     "output_type": "stream",
     "text": [
      "Generating code stubs:  57%|█████▋    | 807/1414 [03:00<01:51,  5.46it/s]"
     ]
    },
    {
     "name": "stdout",
     "output_type": "stream",
     "text": [
      "Error with lexicographically-smallest-string-after-substring-operation: list index out of range\n",
      "Files for valid-permutations-for-di-sequence already exist, skipping...\n",
      "Files for median-of-two-sorted-arrays already exist, skipping...\n",
      "Files for valid-arrangement-of-pairs already exist, skipping...\n",
      "Files for valid-permutations-for-di-sequence already exist, skipping...\n",
      "Files for closest-dessert-cost already exist, skipping...\n",
      "Generating code stub for 427. construct-quad-tree\n"
     ]
    },
    {
     "name": "stderr",
     "output_type": "stream",
     "text": [
      "Generating code stubs:  57%|█████▋    | 813/1414 [03:01<02:02,  4.92it/s]"
     ]
    },
    {
     "name": "stdout",
     "output_type": "stream",
     "text": [
      "Error with construct-quad-tree: malformed node or string on line 1: <ast.Name object at 0x14b4bdc30>\n",
      "Files for length-of-the-longest-valid-substring already exist, skipping...\n",
      "Files for minimum-time-to-complete-trips already exist, skipping...\n",
      "Files for find-closest-node-to-given-two-nodes already exist, skipping...\n",
      "Generating code stub for 107. binary-tree-level-order-traversal-ii\n"
     ]
    },
    {
     "name": "stderr",
     "output_type": "stream",
     "text": [
      "Generating code stubs:  58%|█████▊    | 817/1414 [03:03<02:18,  4.32it/s]"
     ]
    },
    {
     "name": "stdout",
     "output_type": "stream",
     "text": [
      "Error with binary-tree-level-order-traversal-ii: malformed node or string on line 1: <ast.Name object at 0x12fe8cac0>\n",
      "Files for can-place-flowers already exist, skipping...\n",
      "Files for kth-largest-element-in-an-array already exist, skipping...\n",
      "Files for length-of-the-longest-valid-substring already exist, skipping...\n",
      "Files for closest-dessert-cost already exist, skipping...\n",
      "Files for sum-of-subarray-minimums already exist, skipping...\n",
      "Files for count-the-repetitions already exist, skipping...\n",
      "Files for check-if-two-string-arrays-are-equivalent already exist, skipping...\n",
      "Files for maximize-the-minimum-powered-city already exist, skipping...\n",
      "Files for length-of-the-longest-valid-substring already exist, skipping...\n",
      "Files for sum-of-subarray-minimums already exist, skipping...\n",
      "Files for maximum-gap already exist, skipping...\n",
      "Files for count-the-repetitions already exist, skipping...\n",
      "Files for kth-largest-element-in-an-array already exist, skipping...\n",
      "Files for can-place-flowers already exist, skipping...\n",
      "Files for kth-largest-element-in-an-array already exist, skipping...\n",
      "Files for check-if-string-is-transformable-with-substring-sort-operations already exist, skipping...\n",
      "Files for median-of-two-sorted-arrays already exist, skipping...\n",
      "Files for kth-largest-element-in-an-array already exist, skipping...\n",
      "Files for string-compression-ii already exist, skipping...\n",
      "Files for check-if-string-is-transformable-with-substring-sort-operations already exist, skipping...\n",
      "Files for number-of-ways-of-cutting-a-pizza already exist, skipping...\n",
      "Files for count-the-repetitions already exist, skipping...\n",
      "Files for length-of-the-longest-valid-substring already exist, skipping...\n",
      "Files for number-complement already exist, skipping...\n",
      "Files for adding-two-negabinary-numbers already exist, skipping...\n",
      "Files for count-the-repetitions already exist, skipping...\n",
      "Files for closest-dessert-cost already exist, skipping...\n",
      "Generating code stub for 427. construct-quad-tree\n"
     ]
    },
    {
     "name": "stderr",
     "output_type": "stream",
     "text": [
      "Generating code stubs:  60%|█████▉    | 845/1414 [03:04<01:05,  8.75it/s]"
     ]
    },
    {
     "name": "stdout",
     "output_type": "stream",
     "text": [
      "Error with construct-quad-tree: malformed node or string on line 1: <ast.Name object at 0x14b682ec0>\n",
      "Files for number-complement already exist, skipping...\n",
      "Files for can-place-flowers already exist, skipping...\n",
      "Files for restore-ip-addresses already exist, skipping...\n",
      "Files for closest-dessert-cost already exist, skipping...\n",
      "Files for largest-number-after-mutating-substring already exist, skipping...\n",
      "Files for find-the-string-with-lcp already exist, skipping...\n",
      "Files for closest-dessert-cost already exist, skipping...\n",
      "Generating code stub for 107. binary-tree-level-order-traversal-ii\n"
     ]
    },
    {
     "name": "stderr",
     "output_type": "stream",
     "text": [
      "Generating code stubs:  60%|██████    | 853/1414 [03:05<01:04,  8.67it/s]"
     ]
    },
    {
     "name": "stdout",
     "output_type": "stream",
     "text": [
      "Error with binary-tree-level-order-traversal-ii: malformed node or string on line 1: <ast.Name object at 0x149832800>\n",
      "Files for closest-dessert-cost already exist, skipping...\n",
      "Files for restore-ip-addresses already exist, skipping...\n",
      "Files for median-of-two-sorted-arrays already exist, skipping...\n",
      "Files for find-closest-node-to-given-two-nodes already exist, skipping...\n",
      "Files for minimum-obstacle-removal-to-reach-corner already exist, skipping...\n",
      "Files for sliding-window-median already exist, skipping...\n",
      "Files for median-of-two-sorted-arrays already exist, skipping...\n",
      "Files for valid-permutations-for-di-sequence already exist, skipping...\n",
      "Files for valid-arrangement-of-pairs already exist, skipping...\n",
      "Files for valid-arrangement-of-pairs already exist, skipping...\n",
      "Files for minimum-obstacle-removal-to-reach-corner already exist, skipping...\n",
      "Files for valid-permutations-for-di-sequence already exist, skipping...\n",
      "Files for number-complement already exist, skipping...\n",
      "Files for find-kth-bit-in-nth-binary-string already exist, skipping...\n",
      "Files for valid-arrangement-of-pairs already exist, skipping...\n",
      "Files for median-of-two-sorted-arrays already exist, skipping...\n",
      "Files for grid-game already exist, skipping...\n",
      "Files for partition-array-into-three-parts-with-equal-sum already exist, skipping...\n",
      "Files for valid-permutations-for-di-sequence already exist, skipping...\n",
      "Files for lexicographically-smallest-palindrome already exist, skipping...\n",
      "Files for can-place-flowers already exist, skipping...\n",
      "Files for create-components-with-same-value already exist, skipping...\n",
      "Files for length-of-the-longest-valid-substring already exist, skipping...\n",
      "Files for closest-dessert-cost already exist, skipping...\n",
      "Files for restore-ip-addresses already exist, skipping...\n",
      "Files for kth-largest-element-in-an-array already exist, skipping...\n",
      "Generating code stub for 427. construct-quad-tree\n"
     ]
    },
    {
     "name": "stderr",
     "output_type": "stream",
     "text": [
      "Generating code stubs:  62%|██████▏   | 880/1414 [03:06<00:40, 13.32it/s]"
     ]
    },
    {
     "name": "stdout",
     "output_type": "stream",
     "text": [
      "Error with construct-quad-tree: malformed node or string on line 1: <ast.Name object at 0x14b3a41c0>\n",
      "Files for sliding-window-median already exist, skipping...\n",
      "Files for valid-arrangement-of-pairs already exist, skipping...\n",
      "Files for restore-ip-addresses already exist, skipping...\n",
      "Files for closest-dessert-cost already exist, skipping...\n",
      "Files for can-place-flowers already exist, skipping...\n",
      "Files for check-if-two-string-arrays-are-equivalent already exist, skipping...\n",
      "Files for check-if-two-string-arrays-are-equivalent already exist, skipping...\n",
      "Files for kth-largest-element-in-an-array already exist, skipping...\n",
      "Files for number-of-ways-of-cutting-a-pizza already exist, skipping...\n",
      "Files for minimum-obstacle-removal-to-reach-corner already exist, skipping...\n",
      "Files for check-whether-two-strings-are-almost-equivalent already exist, skipping...\n",
      "Files for longest-happy-prefix already exist, skipping...\n",
      "Files for restore-ip-addresses already exist, skipping...\n",
      "Files for length-of-the-longest-valid-substring already exist, skipping...\n",
      "Files for count-the-repetitions already exist, skipping...\n",
      "Files for kth-largest-element-in-an-array already exist, skipping...\n",
      "Files for valid-permutations-for-di-sequence already exist, skipping...\n",
      "Files for check-if-two-string-arrays-are-equivalent already exist, skipping...\n",
      "Files for lexicographically-smallest-palindrome already exist, skipping...\n",
      "Files for count-the-repetitions already exist, skipping...\n",
      "Files for count-the-repetitions already exist, skipping...\n",
      "Files for sum-of-subarray-minimums already exist, skipping...\n",
      "Files for closest-dessert-cost already exist, skipping...\n",
      "Files for restore-ip-addresses already exist, skipping...\n",
      "Files for number-complement already exist, skipping...\n",
      "Files for partition-string-into-substrings-with-values-at-most-k already exist, skipping...\n",
      "Files for sum-of-subarray-minimums already exist, skipping...\n",
      "Files for restore-ip-addresses already exist, skipping...\n",
      "Files for valid-permutations-for-di-sequence already exist, skipping...\n",
      "Files for valid-arrangement-of-pairs already exist, skipping...\n",
      "Files for partition-array-according-to-given-pivot already exist, skipping...\n",
      "Files for disconnect-path-in-a-binary-matrix-by-at-most-one-flip already exist, skipping...\n",
      "Files for find-all-possible-recipes-from-given-supplies already exist, skipping...\n",
      "Files for kth-largest-element-in-an-array already exist, skipping...\n",
      "Files for length-of-the-longest-valid-substring already exist, skipping...\n",
      "Files for kth-largest-element-in-an-array already exist, skipping...\n",
      "Files for median-of-two-sorted-arrays already exist, skipping...\n",
      "Generating code stub for 104. maximum-depth-of-binary-tree\n"
     ]
    },
    {
     "name": "stderr",
     "output_type": "stream",
     "text": [
      "Generating code stubs:  65%|██████▍   | 918/1414 [03:08<00:29, 17.10it/s]"
     ]
    },
    {
     "name": "stdout",
     "output_type": "stream",
     "text": [
      "Error with maximum-depth-of-binary-tree: malformed node or string on line 1: <ast.Name object at 0x119f6c550>\n",
      "Files for number-complement already exist, skipping...\n",
      "Files for count-anagrams already exist, skipping...\n",
      "Files for lexicographical-numbers already exist, skipping...\n",
      "Files for create-components-with-same-value already exist, skipping...\n",
      "Files for arithmetic-slices-ii-subsequence already exist, skipping...\n",
      "Files for find-closest-node-to-given-two-nodes already exist, skipping...\n",
      "Files for rearrange-words-in-a-sentence already exist, skipping...\n",
      "Files for count-number-of-maximum-bitwise-or-subsets already exist, skipping...\n",
      "Generating code stub for 478. generate-random-point-in-a-circle\n"
     ]
    },
    {
     "name": "stderr",
     "output_type": "stream",
     "text": [
      "Generating code stubs:  66%|██████▌   | 927/1414 [03:09<00:38, 12.72it/s]"
     ]
    },
    {
     "name": "stdout",
     "output_type": "stream",
     "text": [
      "Error with generate-random-point-in-a-circle: local variable 'inp' referenced before assignment\n",
      "Files for check-if-string-is-transformable-with-substring-sort-operations already exist, skipping...\n",
      "Files for kth-largest-element-in-an-array already exist, skipping...\n",
      "Files for powerful-integers already exist, skipping...\n",
      "Files for string-compression-ii already exist, skipping...\n",
      "Files for largest-positive-integer-that-exists-with-its-negative already exist, skipping...\n",
      "Files for maximize-number-of-nice-divisors already exist, skipping...\n",
      "Generating code stub for 2078. two-furthest-houses-with-different-colors\n"
     ]
    },
    {
     "name": "stderr",
     "output_type": "stream",
     "text": [
      "Generating code stubs:  66%|██████▌   | 934/1414 [03:11<00:43, 10.99it/s]"
     ]
    },
    {
     "name": "stdout",
     "output_type": "stream",
     "text": [
      "Error with two-furthest-houses-with-different-colors: invalid syntax (<unknown>, line 1)\n",
      "Files for length-of-the-longest-valid-substring already exist, skipping...\n",
      "Files for number-of-ways-of-cutting-a-pizza already exist, skipping...\n",
      "Files for valid-arrangement-of-pairs already exist, skipping...\n",
      "Files for sliding-window-median already exist, skipping...\n",
      "Files for course-schedule already exist, skipping...\n",
      "Files for minimum-obstacle-removal-to-reach-corner already exist, skipping...\n",
      "Files for n-queens-ii already exist, skipping...\n",
      "Files for kth-largest-element-in-an-array already exist, skipping...\n",
      "Files for baseball-game already exist, skipping...\n",
      "Files for partition-array-according-to-given-pivot already exist, skipping...\n",
      "Files for nim-game already exist, skipping...\n",
      "Files for all-ancestors-of-a-node-in-a-directed-acyclic-graph already exist, skipping...\n",
      "Files for find-players-with-zero-or-one-losses already exist, skipping...\n",
      "Files for reverse-nodes-in-k-group already exist, skipping...\n",
      "Files for length-of-the-longest-valid-substring already exist, skipping...\n",
      "Files for minimize-the-total-price-of-the-trips already exist, skipping...\n",
      "Generating code stub for 2734. lexicographically-smallest-string-after-substring-operation\n"
     ]
    },
    {
     "name": "stderr",
     "output_type": "stream",
     "text": [
      "Generating code stubs:  67%|██████▋   | 951/1414 [03:12<00:39, 11.67it/s]"
     ]
    },
    {
     "name": "stdout",
     "output_type": "stream",
     "text": [
      "Error with lexicographically-smallest-string-after-substring-operation: list index out of range\n",
      "Files for plus-one already exist, skipping...\n",
      "Files for valid-arrangement-of-pairs already exist, skipping...\n",
      "Files for median-of-two-sorted-arrays already exist, skipping...\n",
      "Files for third-maximum-number already exist, skipping...\n",
      "Files for largest-positive-integer-that-exists-with-its-negative already exist, skipping...\n",
      "Generating code stub for 594. longest-harmonious-subsequence\n"
     ]
    },
    {
     "name": "stderr",
     "output_type": "stream",
     "text": [
      "Generating code stubs:  68%|██████▊   | 957/1414 [03:13<00:45,  9.95it/s]"
     ]
    },
    {
     "name": "stdout",
     "output_type": "stream",
     "text": [
      "Error with longest-harmonious-subsequence: list index out of range\n",
      "Generating code stub for 107. binary-tree-level-order-traversal-ii\n"
     ]
    },
    {
     "name": "stderr",
     "output_type": "stream",
     "text": [
      "Generating code stubs:  68%|██████▊   | 959/1414 [03:15<01:11,  6.32it/s]"
     ]
    },
    {
     "name": "stdout",
     "output_type": "stream",
     "text": [
      "Error with binary-tree-level-order-traversal-ii: malformed node or string on line 1: <ast.Name object at 0x1497ad840>\n",
      "Files for adding-two-negabinary-numbers already exist, skipping...\n",
      "Files for find-players-with-zero-or-one-losses already exist, skipping...\n",
      "Files for course-schedule already exist, skipping...\n",
      "Files for linked-list-cycle already exist, skipping...\n",
      "Files for sort-colors already exist, skipping...\n",
      "Files for kth-largest-element-in-an-array already exist, skipping...\n",
      "Files for partition-array-into-three-parts-with-equal-sum already exist, skipping...\n",
      "Files for n-queens-ii already exist, skipping...\n",
      "Files for x-of-a-kind-in-a-deck-of-cards already exist, skipping...\n",
      "Generating code stub for 427. construct-quad-tree\n"
     ]
    },
    {
     "name": "stderr",
     "output_type": "stream",
     "text": [
      "Generating code stubs:  68%|██████▊   | 968/1414 [03:17<01:17,  5.75it/s]"
     ]
    },
    {
     "name": "stdout",
     "output_type": "stream",
     "text": [
      "Error with construct-quad-tree: malformed node or string on line 1: <ast.Name object at 0x16c0ea050>\n",
      "Files for find-players-with-zero-or-one-losses already exist, skipping...\n",
      "Files for watering-plants-ii already exist, skipping...\n",
      "Files for baseball-game already exist, skipping...\n",
      "Files for sum-of-absolute-differences-in-a-sorted-array already exist, skipping...\n",
      "Generating code stub for 106. construct-binary-tree-from-inorder-and-postorder-traversal\n"
     ]
    },
    {
     "name": "stderr",
     "output_type": "stream",
     "text": [
      "Generating code stubs:  69%|██████▉   | 973/1414 [03:18<01:27,  5.07it/s]"
     ]
    },
    {
     "name": "stdout",
     "output_type": "stream",
     "text": [
      "Error with construct-binary-tree-from-inorder-and-postorder-traversal: malformed node or string on line 1: <ast.Name object at 0x149d25480>\n",
      "Files for satisfiability-of-equality-equations already exist, skipping...\n",
      "Files for minimum-time-to-complete-trips already exist, skipping...\n",
      "Files for scramble-string already exist, skipping...\n",
      "Files for find-all-possible-recipes-from-given-supplies already exist, skipping...\n",
      "Files for sliding-window-median already exist, skipping...\n",
      "Generating code stub for 107. binary-tree-level-order-traversal-ii\n"
     ]
    },
    {
     "name": "stderr",
     "output_type": "stream",
     "text": [
      "Generating code stubs:  69%|██████▉   | 979/1414 [03:19<01:24,  5.16it/s]"
     ]
    },
    {
     "name": "stdout",
     "output_type": "stream",
     "text": [
      "Error with binary-tree-level-order-traversal-ii: malformed node or string on line 1: <ast.Name object at 0x14b681de0>\n",
      "Files for all-ancestors-of-a-node-in-a-directed-acyclic-graph already exist, skipping...\n",
      "Files for restore-ip-addresses already exist, skipping...\n",
      "Files for longest-cycle-in-a-graph already exist, skipping...\n",
      "Files for count-the-repetitions already exist, skipping...\n",
      "Files for minimum-obstacle-removal-to-reach-corner already exist, skipping...\n",
      "Files for count-the-repetitions already exist, skipping...\n",
      "Files for count-the-repetitions already exist, skipping...\n",
      "Files for sum-of-absolute-differences-in-a-sorted-array already exist, skipping...\n",
      "Files for pascals-triangle already exist, skipping...\n",
      "Files for number-of-ways-of-cutting-a-pizza already exist, skipping...\n",
      "Generating code stub for 1367. linked-list-in-binary-tree\n"
     ]
    },
    {
     "name": "stderr",
     "output_type": "stream",
     "text": [
      "Generating code stubs:  70%|███████   | 990/1414 [03:21<01:13,  5.78it/s]"
     ]
    },
    {
     "name": "stdout",
     "output_type": "stream",
     "text": [
      "Error with linked-list-in-binary-tree: malformed node or string on line 1: <ast.Name object at 0x16c0eab90>\n",
      "Files for length-of-the-longest-valid-substring already exist, skipping...\n",
      "Files for baseball-game already exist, skipping...\n",
      "Files for powerful-integers already exist, skipping...\n",
      "Files for median-of-two-sorted-arrays already exist, skipping...\n",
      "Generating code stub for 107. binary-tree-level-order-traversal-ii\n"
     ]
    },
    {
     "name": "stderr",
     "output_type": "stream",
     "text": [
      "Generating code stubs:  70%|███████   | 995/1414 [03:22<01:20,  5.23it/s]"
     ]
    },
    {
     "name": "stdout",
     "output_type": "stream",
     "text": [
      "Error with binary-tree-level-order-traversal-ii: malformed node or string on line 1: <ast.Name object at 0x14989fe20>\n",
      "Files for check-if-string-is-transformable-with-substring-sort-operations already exist, skipping...\n",
      "Files for check-if-every-row-and-column-contains-all-numbers already exist, skipping...\n",
      "Generating code stub for 2583. kth-largest-sum-in-a-binary-tree\n"
     ]
    },
    {
     "name": "stderr",
     "output_type": "stream",
     "text": [
      "Generating code stubs:  71%|███████   | 998/1414 [03:24<01:36,  4.32it/s]"
     ]
    },
    {
     "name": "stdout",
     "output_type": "stream",
     "text": [
      "Error with kth-largest-sum-in-a-binary-tree: malformed node or string on line 1: <ast.Name object at 0x16c0ebb20>\n",
      "Files for kth-largest-element-in-an-array already exist, skipping...\n",
      "Generating code stub for 2296. design-a-text-editor\n"
     ]
    },
    {
     "name": "stderr",
     "output_type": "stream",
     "text": [
      "Generating code stubs:  71%|███████   | 1000/1414 [03:25<01:57,  3.51it/s]"
     ]
    },
    {
     "name": "stdout",
     "output_type": "stream",
     "text": [
      "Error with design-a-text-editor: local variable 'inp' referenced before assignment\n",
      "Files for count-the-repetitions already exist, skipping...\n",
      "Files for number-of-pairs-of-strings-with-concatenation-equal-to-target already exist, skipping...\n",
      "Files for valid-permutations-for-di-sequence already exist, skipping...\n",
      "Files for minimum-difference-between-highest-and-lowest-of-k-scores already exist, skipping...\n",
      "Files for maximum-elegance-of-a-k-length-subsequence already exist, skipping...\n",
      "Files for restore-ip-addresses already exist, skipping...\n",
      "Files for max-points-on-a-line already exist, skipping...\n",
      "Files for fizz-buzz already exist, skipping...\n",
      "Generating code stub for 2734. lexicographically-smallest-string-after-substring-operation\n"
     ]
    },
    {
     "name": "stderr",
     "output_type": "stream",
     "text": [
      "Generating code stubs:  71%|███████▏  | 1009/1414 [03:27<01:44,  3.87it/s]"
     ]
    },
    {
     "name": "stdout",
     "output_type": "stream",
     "text": [
      "Error with lexicographically-smallest-string-after-substring-operation: list index out of range\n",
      "Files for can-place-flowers already exist, skipping...\n",
      "Generating code stub for 2078. two-furthest-houses-with-different-colors\n"
     ]
    },
    {
     "name": "stderr",
     "output_type": "stream",
     "text": [
      "Generating code stubs:  71%|███████▏  | 1011/1414 [03:29<02:17,  2.93it/s]"
     ]
    },
    {
     "name": "stdout",
     "output_type": "stream",
     "text": [
      "Error with two-furthest-houses-with-different-colors: invalid syntax (<unknown>, line 1)\n",
      "Files for length-of-the-longest-valid-substring already exist, skipping...\n",
      "Files for find-players-with-zero-or-one-losses already exist, skipping...\n",
      "Files for number-of-ways-of-cutting-a-pizza already exist, skipping...\n",
      "Files for string-compression-ii already exist, skipping...\n",
      "Files for closest-dessert-cost already exist, skipping...\n",
      "Files for count-number-of-maximum-bitwise-or-subsets already exist, skipping...\n",
      "Files for largest-number-after-digit-swaps-by-parity already exist, skipping...\n",
      "Files for maximize-number-of-nice-divisors already exist, skipping...\n",
      "Files for find-kth-bit-in-nth-binary-string already exist, skipping...\n",
      "Files for count-the-repetitions already exist, skipping...\n",
      "Files for fizz-buzz already exist, skipping...\n",
      "Files for grid-game already exist, skipping...\n",
      "Files for kth-largest-element-in-an-array already exist, skipping...\n",
      "Files for valid-parenthesis-string already exist, skipping...\n",
      "Files for valid-arrangement-of-pairs already exist, skipping...\n",
      "Files for kth-largest-element-in-an-array already exist, skipping...\n",
      "Files for moving-stones-until-consecutive-ii already exist, skipping...\n",
      "Files for largest-number-after-mutating-substring already exist, skipping...\n",
      "Files for edit-distance already exist, skipping...\n",
      "Files for add-edges-to-make-degrees-of-all-nodes-even already exist, skipping...\n",
      "Files for check-if-two-string-arrays-are-equivalent already exist, skipping...\n",
      "Files for can-place-flowers already exist, skipping...\n",
      "Files for length-of-the-longest-valid-substring already exist, skipping...\n",
      "Files for minimum-bit-flips-to-convert-number already exist, skipping...\n",
      "Generating code stub for 478. generate-random-point-in-a-circle\n"
     ]
    },
    {
     "name": "stderr",
     "output_type": "stream",
     "text": [
      "Generating code stubs:  73%|███████▎  | 1036/1414 [03:31<01:01,  6.11it/s]"
     ]
    },
    {
     "name": "stdout",
     "output_type": "stream",
     "text": [
      "Error with generate-random-point-in-a-circle: local variable 'inp' referenced before assignment\n",
      "Files for minimum-time-to-complete-trips already exist, skipping...\n",
      "Files for count-words-obtained-after-adding-a-letter already exist, skipping...\n",
      "Files for minimum-cost-to-split-an-array already exist, skipping...\n",
      "Files for satisfiability-of-equality-equations already exist, skipping...\n",
      "Files for minimize-the-total-price-of-the-trips already exist, skipping...\n",
      "Files for check-if-one-string-swap-can-make-strings-equal already exist, skipping...\n",
      "Files for pascals-triangle already exist, skipping...\n",
      "Files for median-of-two-sorted-arrays already exist, skipping...\n",
      "Files for course-schedule already exist, skipping...\n",
      "Files for number-of-ways-of-cutting-a-pizza already exist, skipping...\n",
      "Files for check-if-two-string-arrays-are-equivalent already exist, skipping...\n",
      "Files for valid-permutations-for-di-sequence already exist, skipping...\n",
      "Generating code stub for 911. online-election\n"
     ]
    },
    {
     "name": "stderr",
     "output_type": "stream",
     "text": [
      "Generating code stubs:  74%|███████▍  | 1049/1414 [03:32<00:49,  7.41it/s]"
     ]
    },
    {
     "name": "stdout",
     "output_type": "stream",
     "text": [
      "Error with online-election: local variable 'inp' referenced before assignment\n",
      "Files for find-words-that-can-be-formed-by-characters already exist, skipping...\n",
      "Files for partition-array-into-three-parts-with-equal-sum already exist, skipping...\n",
      "Files for k-th-smallest-in-lexicographical-order already exist, skipping...\n",
      "Files for check-if-every-row-and-column-contains-all-numbers already exist, skipping...\n",
      "Files for ugly-number-iii already exist, skipping...\n",
      "Files for best-time-to-buy-and-sell-stock-ii already exist, skipping...\n",
      "Files for satisfiability-of-equality-equations already exist, skipping...\n",
      "Generating code stub for 1026. maximum-difference-between-node-and-ancestor\n"
     ]
    },
    {
     "name": "stderr",
     "output_type": "stream",
     "text": [
      "Generating code stubs:  75%|███████▍  | 1057/1414 [03:33<00:49,  7.17it/s]"
     ]
    },
    {
     "name": "stdout",
     "output_type": "stream",
     "text": [
      "Error with maximum-difference-between-node-and-ancestor: malformed node or string on line 1: <ast.Name object at 0x14977a800>\n",
      "Files for grid-game already exist, skipping...\n",
      "Files for next-greater-element-i already exist, skipping...\n",
      "Files for minimum-speed-to-arrive-on-time already exist, skipping...\n",
      "Files for delete-greatest-value-in-each-row already exist, skipping...\n",
      "Files for fibonacci-number already exist, skipping...\n",
      "Files for valid-parenthesis-string already exist, skipping...\n",
      "Files for decode-the-slanted-ciphertext already exist, skipping...\n",
      "Files for valid-permutations-for-di-sequence already exist, skipping...\n",
      "Files for construct-the-longest-new-string already exist, skipping...\n",
      "Files for sum-of-subarray-minimums already exist, skipping...\n",
      "Files for maximum-gap already exist, skipping...\n",
      "Files for kth-largest-element-in-an-array already exist, skipping...\n",
      "Files for lexicographically-smallest-palindrome already exist, skipping...\n",
      "Files for find-the-array-concatenation-value already exist, skipping...\n",
      "Files for moving-stones-until-consecutive-ii already exist, skipping...\n",
      "Files for valid-permutations-for-di-sequence already exist, skipping...\n",
      "Files for jump-game-ii already exist, skipping...\n",
      "Files for arithmetic-slices-ii-subsequence already exist, skipping...\n",
      "Files for string-compression-ii already exist, skipping...\n",
      "Files for maximum-gap already exist, skipping...\n",
      "Files for valid-parenthesis-string already exist, skipping...\n",
      "Files for create-components-with-same-value already exist, skipping...\n",
      "Files for how-many-numbers-are-smaller-than-the-current-number already exist, skipping...\n",
      "Files for number-complement already exist, skipping...\n",
      "Files for neighboring-bitwise-xor already exist, skipping...\n",
      "Files for plates-between-candles already exist, skipping...\n",
      "Files for move-zeroes already exist, skipping...\n",
      "Files for delete-operation-for-two-strings already exist, skipping...\n",
      "Files for count-the-repetitions already exist, skipping...\n",
      "Files for max-points-on-a-line already exist, skipping...\n",
      "Files for find-the-string-with-lcp already exist, skipping...\n",
      "Files for fizz-buzz already exist, skipping...\n",
      "Files for kth-largest-element-in-an-array already exist, skipping...\n",
      "Files for sum-of-subarray-minimums already exist, skipping...\n",
      "Files for sum-of-subarray-minimums already exist, skipping...\n",
      "Files for length-of-the-longest-valid-substring already exist, skipping...\n",
      "Files for string-compression-ii already exist, skipping...\n",
      "Files for unique-number-of-occurrences already exist, skipping...\n",
      "Files for can-place-flowers already exist, skipping...\n",
      "Files for find-the-string-with-lcp already exist, skipping...\n",
      "Files for closest-dessert-cost already exist, skipping...\n",
      "Files for sum-of-subarray-minimums already exist, skipping...\n",
      "Generating code stub for 911. online-election\n"
     ]
    },
    {
     "name": "stderr",
     "output_type": "stream",
     "text": [
      "Generating code stubs:  78%|███████▊  | 1100/1414 [03:36<00:26, 11.86it/s]"
     ]
    },
    {
     "name": "stdout",
     "output_type": "stream",
     "text": [
      "Error with online-election: local variable 'inp' referenced before assignment\n",
      "Files for moving-stones-until-consecutive-ii already exist, skipping...\n",
      "Files for largest-positive-integer-that-exists-with-its-negative already exist, skipping...\n",
      "Files for disconnect-path-in-a-binary-matrix-by-at-most-one-flip already exist, skipping...\n",
      "Files for check-if-two-string-arrays-are-equivalent already exist, skipping...\n",
      "Files for maximize-the-minimum-powered-city already exist, skipping...\n",
      "Files for minimize-the-total-price-of-the-trips already exist, skipping...\n",
      "Files for largest-positive-integer-that-exists-with-its-negative already exist, skipping...\n",
      "Files for create-components-with-same-value already exist, skipping...\n",
      "Files for find-all-possible-recipes-from-given-supplies already exist, skipping...\n",
      "Files for string-compression-ii already exist, skipping...\n",
      "Files for restore-the-array-from-adjacent-pairs already exist, skipping...\n",
      "Files for how-many-numbers-are-smaller-than-the-current-number already exist, skipping...\n",
      "Files for median-of-two-sorted-arrays already exist, skipping...\n",
      "Files for corporate-flight-bookings already exist, skipping...\n",
      "Generating code stub for 427. construct-quad-tree\n"
     ]
    },
    {
     "name": "stderr",
     "output_type": "stream",
     "text": [
      "Generating code stubs:  79%|███████▉  | 1115/1414 [03:37<00:24, 11.99it/s]"
     ]
    },
    {
     "name": "stdout",
     "output_type": "stream",
     "text": [
      "Error with construct-quad-tree: malformed node or string on line 1: <ast.Name object at 0x14b4be350>\n",
      "Files for fizz-buzz already exist, skipping...\n",
      "Files for number-of-ways-to-split-a-string already exist, skipping...\n",
      "Files for split-linked-list-in-parts already exist, skipping...\n",
      "Files for closest-dessert-cost already exist, skipping...\n",
      "Files for closest-dessert-cost already exist, skipping...\n",
      "Files for find-the-string-with-lcp already exist, skipping...\n",
      "Files for unique-number-of-occurrences already exist, skipping...\n",
      "Files for disconnect-path-in-a-binary-matrix-by-at-most-one-flip already exist, skipping...\n",
      "Files for frog-position-after-t-seconds already exist, skipping...\n",
      "Files for third-maximum-number already exist, skipping...\n",
      "Files for closest-dessert-cost already exist, skipping...\n",
      "Files for most-common-word already exist, skipping...\n",
      "Files for partition-array-into-three-parts-with-equal-sum already exist, skipping...\n",
      "Files for number-of-ways-of-cutting-a-pizza already exist, skipping...\n",
      "Generating code stub for 427. construct-quad-tree\n"
     ]
    },
    {
     "name": "stderr",
     "output_type": "stream",
     "text": [
      "Generating code stubs:  80%|███████▉  | 1130/1414 [03:39<00:26, 10.66it/s]"
     ]
    },
    {
     "name": "stdout",
     "output_type": "stream",
     "text": [
      "Error with construct-quad-tree: malformed node or string on line 1: <ast.Name object at 0x16c04a0b0>\n",
      "Files for count-anagrams already exist, skipping...\n",
      "Files for closest-dessert-cost already exist, skipping...\n",
      "Files for median-of-two-sorted-arrays already exist, skipping...\n",
      "Files for lexicographical-numbers already exist, skipping...\n",
      "Files for corporate-flight-bookings already exist, skipping...\n",
      "Files for find-the-middle-index-in-array already exist, skipping...\n",
      "Files for find-peak-element already exist, skipping...\n",
      "Generating code stub for 427. construct-quad-tree\n"
     ]
    },
    {
     "name": "stderr",
     "output_type": "stream",
     "text": [
      "Generating code stubs:  80%|████████  | 1138/1414 [03:40<00:32,  8.60it/s]"
     ]
    },
    {
     "name": "stdout",
     "output_type": "stream",
     "text": [
      "Error with construct-quad-tree: malformed node or string on line 1: <ast.Name object at 0x14977b460>\n",
      "Files for merge-k-sorted-lists already exist, skipping...\n",
      "Files for increasing-decreasing-string already exist, skipping...\n",
      "Files for partition-array-into-three-parts-with-equal-sum already exist, skipping...\n",
      "Files for minimum-obstacle-removal-to-reach-corner already exist, skipping...\n",
      "Files for check-if-string-is-transformable-with-substring-sort-operations already exist, skipping...\n",
      "Generating code stub for 105. construct-binary-tree-from-preorder-and-inorder-traversal\n"
     ]
    },
    {
     "name": "stderr",
     "output_type": "stream",
     "text": [
      "Generating code stubs:  81%|████████  | 1144/1414 [03:43<00:40,  6.64it/s]"
     ]
    },
    {
     "name": "stdout",
     "output_type": "stream",
     "text": [
      "Error with construct-binary-tree-from-preorder-and-inorder-traversal: malformed node or string on line 1: <ast.Name object at 0x16c03c6a0>\n",
      "Files for largest-positive-integer-that-exists-with-its-negative already exist, skipping...\n",
      "Files for move-zeroes already exist, skipping...\n",
      "Files for next-greater-element-iv already exist, skipping...\n",
      "Files for sliding-window-median already exist, skipping...\n",
      "Files for make-array-zero-by-subtracting-equal-amounts already exist, skipping...\n",
      "Files for can-place-flowers already exist, skipping...\n",
      "Files for can-place-flowers already exist, skipping...\n",
      "Files for reverse-nodes-in-k-group already exist, skipping...\n",
      "Files for valid-arrangement-of-pairs already exist, skipping...\n",
      "Files for median-of-two-sorted-arrays already exist, skipping...\n",
      "Files for maximum-of-absolute-value-expression already exist, skipping...\n",
      "Files for alternating-digit-sum already exist, skipping...\n",
      "Files for adding-two-negabinary-numbers already exist, skipping...\n",
      "Files for powerful-integers already exist, skipping...\n",
      "Files for partition-array-into-three-parts-with-equal-sum already exist, skipping...\n",
      "Files for length-of-the-longest-valid-substring already exist, skipping...\n",
      "Files for check-if-two-string-arrays-are-equivalent already exist, skipping...\n",
      "Files for valid-permutations-for-di-sequence already exist, skipping...\n",
      "Generating code stub for 2078. two-furthest-houses-with-different-colors\n"
     ]
    },
    {
     "name": "stderr",
     "output_type": "stream",
     "text": [
      "Generating code stubs:  82%|████████▏ | 1163/1414 [03:45<00:34,  7.29it/s]"
     ]
    },
    {
     "name": "stdout",
     "output_type": "stream",
     "text": [
      "Error with two-furthest-houses-with-different-colors: invalid syntax (<unknown>, line 1)\n",
      "Generating code stub for 104. maximum-depth-of-binary-tree\n"
     ]
    },
    {
     "name": "stderr",
     "output_type": "stream",
     "text": [
      "Generating code stubs:  82%|████████▏ | 1164/1414 [03:47<00:46,  5.33it/s]"
     ]
    },
    {
     "name": "stdout",
     "output_type": "stream",
     "text": [
      "Error with maximum-depth-of-binary-tree: malformed node or string on line 1: <ast.Name object at 0x12fcaff70>\n",
      "Generating code stub for 30. substring-with-concatenation-of-all-words\n"
     ]
    },
    {
     "name": "stderr",
     "output_type": "stream",
     "text": [
      "Generating code stubs:  82%|████████▏ | 1165/1414 [03:48<00:55,  4.48it/s]"
     ]
    },
    {
     "name": "stdout",
     "output_type": "stream",
     "text": [
      "Error with substring-with-concatenation-of-all-words: list index out of range\n",
      "Files for string-compression-ii already exist, skipping...\n",
      "Files for median-of-two-sorted-arrays already exist, skipping...\n",
      "Files for ways-to-split-array-into-good-subarrays already exist, skipping...\n",
      "Files for restore-ip-addresses already exist, skipping...\n",
      "Generating code stub for 2734. lexicographically-smallest-string-after-substring-operation\n"
     ]
    },
    {
     "name": "stderr",
     "output_type": "stream",
     "text": [
      "Generating code stubs:  83%|████████▎ | 1170/1414 [03:49<00:58,  4.15it/s]"
     ]
    },
    {
     "name": "stdout",
     "output_type": "stream",
     "text": [
      "Error with lexicographically-smallest-string-after-substring-operation: list index out of range\n",
      "Generating code stub for 427. construct-quad-tree\n"
     ]
    },
    {
     "name": "stderr",
     "output_type": "stream",
     "text": [
      "Generating code stubs:  83%|████████▎ | 1171/1414 [03:51<01:17,  3.12it/s]"
     ]
    },
    {
     "name": "stdout",
     "output_type": "stream",
     "text": [
      "Error with construct-quad-tree: malformed node or string on line 1: <ast.Name object at 0x16c093b20>\n",
      "Files for palindrome-pairs already exist, skipping...\n",
      "Files for find-positive-integer-solution-for-a-given-equation already exist, skipping...\n",
      "Files for making-file-names-unique already exist, skipping...\n",
      "Files for length-of-the-longest-valid-substring already exist, skipping...\n",
      "Files for all-ancestors-of-a-node-in-a-directed-acyclic-graph already exist, skipping...\n",
      "Files for create-components-with-same-value already exist, skipping...\n",
      "Files for decode-the-slanted-ciphertext already exist, skipping...\n",
      "Files for string-compression-ii already exist, skipping...\n",
      "Files for find-kth-bit-in-nth-binary-string already exist, skipping...\n",
      "Files for maximum-gap already exist, skipping...\n",
      "Files for n-queens-ii already exist, skipping...\n",
      "Files for sliding-window-median already exist, skipping...\n",
      "Files for fizz-buzz already exist, skipping...\n",
      "Files for valid-permutations-for-di-sequence already exist, skipping...\n",
      "Files for self-dividing-numbers already exist, skipping...\n",
      "Files for plus-one already exist, skipping...\n",
      "Files for number-of-ways-to-split-a-string already exist, skipping...\n",
      "Generating code stub for 559. maximum-depth-of-n-ary-tree\n"
     ]
    },
    {
     "name": "stderr",
     "output_type": "stream",
     "text": [
      "Generating code stubs:  84%|████████▍ | 1189/1414 [03:53<00:42,  5.33it/s]"
     ]
    },
    {
     "name": "stdout",
     "output_type": "stream",
     "text": [
      "Error with maximum-depth-of-n-ary-tree: malformed node or string on line 1: <ast.Name object at 0x14b5b7d60>\n",
      "Files for rearrange-words-in-a-sentence already exist, skipping...\n",
      "Files for minimum-cost-to-split-an-array already exist, skipping...\n",
      "Files for valid-parenthesis-string already exist, skipping...\n",
      "Files for invalid-transactions already exist, skipping...\n",
      "Files for plates-between-candles already exist, skipping...\n",
      "Files for grid-game already exist, skipping...\n",
      "Files for count-the-repetitions already exist, skipping...\n",
      "Files for sort-colors already exist, skipping...\n",
      "Files for find-closest-node-to-given-two-nodes already exist, skipping...\n",
      "Files for max-points-on-a-line already exist, skipping...\n",
      "Files for lexicographically-smallest-palindrome already exist, skipping...\n",
      "Files for palindrome-partitioning-iii already exist, skipping...\n",
      "Files for baseball-game already exist, skipping...\n",
      "Files for find-the-string-with-lcp already exist, skipping...\n",
      "Files for sum-of-subarray-minimums already exist, skipping...\n",
      "Files for rings-and-rods already exist, skipping...\n",
      "Files for most-common-word already exist, skipping...\n",
      "Files for check-if-two-string-arrays-are-equivalent already exist, skipping...\n",
      "Files for check-whether-two-strings-are-almost-equivalent already exist, skipping...\n",
      "Files for restore-the-array already exist, skipping...\n",
      "Files for check-whether-two-strings-are-almost-equivalent already exist, skipping...\n",
      "Files for count-anagrams already exist, skipping...\n",
      "Files for minimum-time-to-complete-trips already exist, skipping...\n",
      "Files for check-if-string-is-transformable-with-substring-sort-operations already exist, skipping...\n",
      "Files for maximum-number-of-consecutive-values-you-can-make already exist, skipping...\n",
      "Files for most-common-word already exist, skipping...\n",
      "Files for maximize-number-of-nice-divisors already exist, skipping...\n",
      "Files for can-place-flowers already exist, skipping...\n",
      "Files for restore-ip-addresses already exist, skipping...\n",
      "Files for count-the-repetitions already exist, skipping...\n",
      "Files for course-schedule already exist, skipping...\n",
      "Files for neighboring-bitwise-xor already exist, skipping...\n",
      "Files for check-if-string-is-transformable-with-substring-sort-operations already exist, skipping...\n",
      "Files for minimize-the-total-price-of-the-trips already exist, skipping...\n",
      "Generating code stub for 911. online-election\n"
     ]
    },
    {
     "name": "stderr",
     "output_type": "stream",
     "text": [
      "Generating code stubs:  87%|████████▋ | 1224/1414 [03:56<00:23,  8.13it/s]"
     ]
    },
    {
     "name": "stdout",
     "output_type": "stream",
     "text": [
      "Error with online-election: local variable 'inp' referenced before assignment\n",
      "Files for longest-happy-prefix already exist, skipping...\n",
      "Files for check-if-one-string-swap-can-make-strings-equal already exist, skipping...\n",
      "Files for grid-game already exist, skipping...\n",
      "Files for unique-number-of-occurrences already exist, skipping...\n",
      "Files for find-the-kth-largest-integer-in-the-array already exist, skipping...\n",
      "Generating code stub for 427. construct-quad-tree\n"
     ]
    },
    {
     "name": "stderr",
     "output_type": "stream",
     "text": [
      "Generating code stubs:  87%|████████▋ | 1230/1414 [03:58<00:29,  6.26it/s]"
     ]
    },
    {
     "name": "stdout",
     "output_type": "stream",
     "text": [
      "Error with construct-quad-tree: malformed node or string on line 1: <ast.Name object at 0x16c03c310>\n",
      "Generating code stub for 501. find-mode-in-binary-search-tree\n"
     ]
    },
    {
     "name": "stderr",
     "output_type": "stream",
     "text": [
      "Generating code stubs:  87%|████████▋ | 1231/1414 [04:01<00:45,  4.06it/s]"
     ]
    },
    {
     "name": "stdout",
     "output_type": "stream",
     "text": [
      "Error with find-mode-in-binary-search-tree: malformed node or string on line 1: <ast.Name object at 0x12fcca7d0>\n",
      "Files for lexicographically-smallest-palindrome already exist, skipping...\n",
      "Files for find-players-with-zero-or-one-losses already exist, skipping...\n",
      "Files for valid-permutations-for-di-sequence already exist, skipping...\n",
      "Files for partition-string-into-substrings-with-values-at-most-k already exist, skipping...\n",
      "Files for palindrome-partitioning-iii already exist, skipping...\n",
      "Generating code stub for 80. remove-duplicates-from-sorted-array-ii\n"
     ]
    },
    {
     "name": "stderr",
     "output_type": "stream",
     "text": [
      "Generating code stubs:  87%|████████▋ | 1237/1414 [04:02<00:43,  4.04it/s]"
     ]
    },
    {
     "name": "stdout",
     "output_type": "stream",
     "text": [
      "Error with remove-duplicates-from-sorted-array-ii: local variable 'inp' referenced before assignment\n",
      "Files for find-all-possible-recipes-from-given-supplies already exist, skipping...\n",
      "Files for maximum-performance-of-a-team already exist, skipping...\n",
      "Files for length-of-the-longest-valid-substring already exist, skipping...\n",
      "Generating code stub for 107. binary-tree-level-order-traversal-ii\n"
     ]
    },
    {
     "name": "stderr",
     "output_type": "stream",
     "text": [
      "Generating code stubs:  88%|████████▊ | 1241/1414 [04:04<00:46,  3.71it/s]"
     ]
    },
    {
     "name": "stdout",
     "output_type": "stream",
     "text": [
      "Error with binary-tree-level-order-traversal-ii: malformed node or string on line 1: <ast.Name object at 0x1498087c0>\n",
      "Files for n-queens-ii already exist, skipping...\n",
      "Files for adding-two-negabinary-numbers already exist, skipping...\n",
      "Files for minimum-deletions-to-make-array-divisible already exist, skipping...\n",
      "Files for median-of-two-sorted-arrays already exist, skipping...\n",
      "Files for maximum-strength-of-a-group already exist, skipping...\n",
      "Files for k-similar-strings already exist, skipping...\n",
      "Files for kth-largest-element-in-an-array already exist, skipping...\n",
      "Files for row-with-maximum-ones already exist, skipping...\n",
      "Files for delete-operation-for-two-strings already exist, skipping...\n",
      "Files for check-if-string-is-transformable-with-substring-sort-operations already exist, skipping...\n",
      "Generating code stub for 478. generate-random-point-in-a-circle\n"
     ]
    },
    {
     "name": "stderr",
     "output_type": "stream",
     "text": [
      "Generating code stubs:  89%|████████▊ | 1252/1414 [04:05<00:35,  4.62it/s]"
     ]
    },
    {
     "name": "stdout",
     "output_type": "stream",
     "text": [
      "Error with generate-random-point-in-a-circle: local variable 'inp' referenced before assignment\n",
      "Files for string-compression-ii already exist, skipping...\n",
      "Files for valid-arrangement-of-pairs already exist, skipping...\n",
      "Files for longest-cycle-in-a-graph already exist, skipping...\n",
      "Files for reveal-cards-in-increasing-order already exist, skipping...\n",
      "Files for maximum-gap already exist, skipping...\n",
      "Files for find-closest-node-to-given-two-nodes already exist, skipping...\n",
      "Files for kth-largest-element-in-an-array already exist, skipping...\n",
      "Files for find-words-that-can-be-formed-by-characters already exist, skipping...\n",
      "Generating code stub for 30. substring-with-concatenation-of-all-words\n"
     ]
    },
    {
     "name": "stderr",
     "output_type": "stream",
     "text": [
      "Generating code stubs:  89%|████████▉ | 1261/1414 [04:07<00:33,  4.59it/s]"
     ]
    },
    {
     "name": "stdout",
     "output_type": "stream",
     "text": [
      "Error with substring-with-concatenation-of-all-words: list index out of range\n",
      "Files for pascals-triangle already exist, skipping...\n",
      "Files for restore-ip-addresses already exist, skipping...\n",
      "Files for next-greater-element-i already exist, skipping...\n",
      "Files for arithmetic-slices-ii-subsequence already exist, skipping...\n",
      "Files for valid-permutations-for-di-sequence already exist, skipping...\n",
      "Files for construct-the-longest-new-string already exist, skipping...\n",
      "Files for check-if-two-string-arrays-are-equivalent already exist, skipping...\n",
      "Files for minimize-the-total-price-of-the-trips already exist, skipping...\n",
      "Files for fibonacci-number already exist, skipping...\n",
      "Files for check-if-there-is-a-valid-partition-for-the-array already exist, skipping...\n",
      "Files for minimum-obstacle-removal-to-reach-corner already exist, skipping...\n",
      "Generating code stub for 190. reverse-bits\n"
     ]
    },
    {
     "name": "stderr",
     "output_type": "stream",
     "text": [
      "Generating code stubs:  90%|█████████ | 1273/1414 [04:09<00:24,  5.65it/s]"
     ]
    },
    {
     "name": "stdout",
     "output_type": "stream",
     "text": [
      "Error with reverse-bits: leading zeros in decimal integer literals are not permitted; use an 0o prefix for octal integers (<unknown>, line 1)\n",
      "Files for sliding-window-median already exist, skipping...\n",
      "Files for minimum-changes-to-make-alternating-binary-string already exist, skipping...\n",
      "Files for satisfiability-of-equality-equations already exist, skipping...\n",
      "Generating code stub for 897. increasing-order-search-tree\n"
     ]
    },
    {
     "name": "stderr",
     "output_type": "stream",
     "text": [
      "Generating code stubs:  90%|█████████ | 1277/1414 [04:10<00:28,  4.82it/s]"
     ]
    },
    {
     "name": "stdout",
     "output_type": "stream",
     "text": [
      "Error with increasing-order-search-tree: malformed node or string on line 1: <ast.Name object at 0x14b5b7d90>\n",
      "Files for stone-game-vi already exist, skipping...\n",
      "Files for sum-of-absolute-differences-in-a-sorted-array already exist, skipping...\n",
      "Generating code stub for 104. maximum-depth-of-binary-tree\n"
     ]
    },
    {
     "name": "stderr",
     "output_type": "stream",
     "text": [
      "Generating code stubs:  91%|█████████ | 1280/1414 [04:12<00:31,  4.20it/s]"
     ]
    },
    {
     "name": "stdout",
     "output_type": "stream",
     "text": [
      "Error with maximum-depth-of-binary-tree: malformed node or string on line 1: <ast.Name object at 0x173c0c910>\n",
      "Files for create-components-with-same-value already exist, skipping...\n",
      "Generating code stub for 911. online-election\n"
     ]
    },
    {
     "name": "stderr",
     "output_type": "stream",
     "text": [
      "Generating code stubs:  91%|█████████ | 1282/1414 [04:14<00:44,  2.97it/s]"
     ]
    },
    {
     "name": "stdout",
     "output_type": "stream",
     "text": [
      "Error with online-election: local variable 'inp' referenced before assignment\n",
      "Files for count-equal-and-divisible-pairs-in-an-array already exist, skipping...\n",
      "Files for minimum-time-to-complete-trips already exist, skipping...\n",
      "Files for find-the-string-with-lcp already exist, skipping...\n",
      "Files for longest-arithmetic-subsequence-of-given-difference already exist, skipping...\n",
      "Files for largest-number-after-digit-swaps-by-parity already exist, skipping...\n",
      "Generating code stub for 105. construct-binary-tree-from-preorder-and-inorder-traversal\n"
     ]
    },
    {
     "name": "stderr",
     "output_type": "stream",
     "text": [
      "Generating code stubs:  91%|█████████ | 1288/1414 [04:17<00:52,  2.40it/s]"
     ]
    },
    {
     "name": "stdout",
     "output_type": "stream",
     "text": [
      "Error with construct-binary-tree-from-preorder-and-inorder-traversal: malformed node or string on line 1: <ast.Name object at 0x14b4bf910>\n",
      "Files for alternating-digit-sum already exist, skipping...\n",
      "Files for number-of-pairs-of-strings-with-concatenation-equal-to-target already exist, skipping...\n",
      "Files for scramble-string already exist, skipping...\n",
      "Files for minimum-number-of-steps-to-make-two-strings-anagram-ii already exist, skipping...\n",
      "Generating code stub for 2296. design-a-text-editor\n"
     ]
    },
    {
     "name": "stderr",
     "output_type": "stream",
     "text": [
      "Generating code stubs:  91%|█████████▏| 1293/1414 [04:19<00:49,  2.43it/s]"
     ]
    },
    {
     "name": "stdout",
     "output_type": "stream",
     "text": [
      "Error with design-a-text-editor: local variable 'inp' referenced before assignment\n",
      "Files for card-flipping-game already exist, skipping...\n",
      "Files for how-many-numbers-are-smaller-than-the-current-number already exist, skipping...\n",
      "Files for moving-stones-until-consecutive-ii already exist, skipping...\n",
      "Files for edit-distance already exist, skipping...\n",
      "Files for longest-word-in-dictionary-through-deleting already exist, skipping...\n",
      "Files for disconnect-path-in-a-binary-matrix-by-at-most-one-flip already exist, skipping...\n",
      "Files for add-edges-to-make-degrees-of-all-nodes-even already exist, skipping...\n",
      "Files for valid-parenthesis-string already exist, skipping...\n",
      "Files for minimum-total-cost-to-make-arrays-unequal already exist, skipping...\n",
      "Files for can-place-flowers already exist, skipping...\n",
      "Files for edit-distance already exist, skipping...\n",
      "Files for minimum-index-sum-of-two-lists already exist, skipping...\n",
      "Files for maximum-of-absolute-value-expression already exist, skipping...\n",
      "Files for minimum-flips-to-make-a-or-b-equal-to-c already exist, skipping...\n",
      "Files for node-with-highest-edge-score already exist, skipping...\n",
      "Generating code stub for 501. find-mode-in-binary-search-tree\n"
     ]
    },
    {
     "name": "stderr",
     "output_type": "stream",
     "text": [
      "Generating code stubs:  93%|█████████▎| 1309/1414 [04:21<00:26,  3.96it/s]"
     ]
    },
    {
     "name": "stdout",
     "output_type": "stream",
     "text": [
      "Error with find-mode-in-binary-search-tree: malformed node or string on line 1: <ast.Name object at 0x16c04a110>\n",
      "Files for partition-array-according-to-given-pivot already exist, skipping...\n",
      "Files for find-kth-bit-in-nth-binary-string already exist, skipping...\n",
      "Files for find-the-string-with-lcp already exist, skipping...\n",
      "Files for moving-stones-until-consecutive-ii already exist, skipping...\n",
      "Files for make-array-zero-by-subtracting-equal-amounts already exist, skipping...\n",
      "Files for string-compression-ii already exist, skipping...\n",
      "Files for minimum-cost-to-split-an-array already exist, skipping...\n",
      "Files for excel-sheet-column-title already exist, skipping...\n",
      "Files for valid-permutations-for-di-sequence already exist, skipping...\n",
      "Generating code stub for 80. remove-duplicates-from-sorted-array-ii\n"
     ]
    },
    {
     "name": "stderr",
     "output_type": "stream",
     "text": [
      "Generating code stubs:  93%|█████████▎| 1319/1414 [04:23<00:21,  4.45it/s]"
     ]
    },
    {
     "name": "stdout",
     "output_type": "stream",
     "text": [
      "Error with remove-duplicates-from-sorted-array-ii: local variable 'inp' referenced before assignment\n",
      "Files for fizz-buzz already exist, skipping...\n",
      "Files for minimum-fuel-cost-to-report-to-the-capital already exist, skipping...\n",
      "Files for next-greater-element-i already exist, skipping...\n",
      "Files for restore-ip-addresses already exist, skipping...\n",
      "Files for baseball-game already exist, skipping...\n",
      "Files for minimum-obstacle-removal-to-reach-corner already exist, skipping...\n",
      "Files for minimum-deletions-to-make-array-divisible already exist, skipping...\n",
      "Files for all-ancestors-of-a-node-in-a-directed-acyclic-graph already exist, skipping...\n",
      "Files for find-all-lonely-numbers-in-the-array already exist, skipping...\n",
      "Files for substrings-of-size-three-with-distinct-characters already exist, skipping...\n",
      "Files for longest-cycle-in-a-graph already exist, skipping...\n",
      "Files for median-of-two-sorted-arrays already exist, skipping...\n",
      "Files for check-if-two-string-arrays-are-equivalent already exist, skipping...\n",
      "Files for average-value-of-even-numbers-that-are-divisible-by-three already exist, skipping...\n",
      "Files for max-points-on-a-line already exist, skipping...\n",
      "Files for powerful-integers already exist, skipping...\n",
      "Files for linked-list-cycle already exist, skipping...\n",
      "Files for longest-happy-prefix already exist, skipping...\n",
      "Files for number-complement already exist, skipping...\n",
      "Files for restore-the-array already exist, skipping...\n",
      "Files for number-of-ways-of-cutting-a-pizza already exist, skipping...\n",
      "Generating code stub for 1367. linked-list-in-binary-tree\n"
     ]
    },
    {
     "name": "stderr",
     "output_type": "stream",
     "text": [
      "Generating code stubs:  95%|█████████▍| 1341/1414 [04:25<00:10,  6.79it/s]"
     ]
    },
    {
     "name": "stdout",
     "output_type": "stream",
     "text": [
      "Error with linked-list-in-binary-tree: malformed node or string on line 1: <ast.Name object at 0x16c04a770>\n",
      "Files for plates-between-candles already exist, skipping...\n",
      "Files for decode-the-slanted-ciphertext already exist, skipping...\n",
      "Files for count-anagrams already exist, skipping...\n",
      "Files for arithmetic-slices-ii-subsequence already exist, skipping...\n",
      "Files for jump-game-ii already exist, skipping...\n",
      "Files for lexicographically-smallest-palindrome already exist, skipping...\n",
      "Generating code stub for 80. remove-duplicates-from-sorted-array-ii\n"
     ]
    },
    {
     "name": "stderr",
     "output_type": "stream",
     "text": [
      "Generating code stubs:  95%|█████████▌| 1348/1414 [04:26<00:10,  6.29it/s]"
     ]
    },
    {
     "name": "stdout",
     "output_type": "stream",
     "text": [
      "Error with remove-duplicates-from-sorted-array-ii: local variable 'inp' referenced before assignment\n",
      "Files for find-peak-element already exist, skipping...\n",
      "Files for max-points-on-a-line already exist, skipping...\n",
      "Files for plus-one already exist, skipping...\n",
      "Files for sort-colors already exist, skipping...\n",
      "Files for x-of-a-kind-in-a-deck-of-cards already exist, skipping...\n",
      "Files for valid-permutations-for-di-sequence already exist, skipping...\n",
      "Files for node-with-highest-edge-score already exist, skipping...\n",
      "Generating code stub for 988. smallest-string-starting-from-leaf\n"
     ]
    },
    {
     "name": "stderr",
     "output_type": "stream",
     "text": [
      "Generating code stubs:  96%|█████████▌| 1356/1414 [04:29<00:11,  5.08it/s]"
     ]
    },
    {
     "name": "stdout",
     "output_type": "stream",
     "text": [
      "Error with smallest-string-starting-from-leaf: malformed node or string on line 1: <ast.Name object at 0x14b4bf940>\n",
      "Generating code stub for 478. generate-random-point-in-a-circle\n"
     ]
    },
    {
     "name": "stderr",
     "output_type": "stream",
     "text": [
      "Generating code stubs:  96%|█████████▌| 1357/1414 [04:30<00:14,  3.83it/s]"
     ]
    },
    {
     "name": "stdout",
     "output_type": "stream",
     "text": [
      "Error with generate-random-point-in-a-circle: local variable 'inp' referenced before assignment\n",
      "Files for delete-greatest-value-in-each-row already exist, skipping...\n",
      "Files for invalid-transactions already exist, skipping...\n",
      "Generating code stub for 107. binary-tree-level-order-traversal-ii\n"
     ]
    },
    {
     "name": "stderr",
     "output_type": "stream",
     "text": [
      "Generating code stubs:  96%|█████████▌| 1360/1414 [04:32<00:16,  3.37it/s]"
     ]
    },
    {
     "name": "stdout",
     "output_type": "stream",
     "text": [
      "Error with binary-tree-level-order-traversal-ii: malformed node or string on line 1: <ast.Name object at 0x14b5b75b0>\n",
      "Files for kth-largest-element-in-an-array already exist, skipping...\n",
      "Files for sliding-window-median already exist, skipping...\n",
      "Files for longest-well-performing-interval already exist, skipping...\n",
      "Files for count-the-repetitions already exist, skipping...\n",
      "Files for find-players-with-zero-or-one-losses already exist, skipping...\n",
      "Files for card-flipping-game already exist, skipping...\n",
      "Generating code stub for 104. maximum-depth-of-binary-tree\n"
     ]
    },
    {
     "name": "stderr",
     "output_type": "stream",
     "text": [
      "Generating code stubs:  97%|█████████▋| 1367/1414 [04:34<00:13,  3.42it/s]"
     ]
    },
    {
     "name": "stdout",
     "output_type": "stream",
     "text": [
      "Error with maximum-depth-of-binary-tree: malformed node or string on line 1: <ast.Name object at 0x16c04a0b0>\n",
      "Files for binary-search already exist, skipping...\n",
      "Files for reveal-cards-in-increasing-order already exist, skipping...\n",
      "Generating code stub for 2583. kth-largest-sum-in-a-binary-tree\n"
     ]
    },
    {
     "name": "stderr",
     "output_type": "stream",
     "text": [
      "Generating code stubs:  97%|█████████▋| 1370/1414 [04:36<00:14,  2.97it/s]"
     ]
    },
    {
     "name": "stdout",
     "output_type": "stream",
     "text": [
      "Error with kth-largest-sum-in-a-binary-tree: malformed node or string on line 1: <ast.Name object at 0x14b5b75b0>\n",
      "Files for adding-two-negabinary-numbers already exist, skipping...\n",
      "Files for maximum-elegance-of-a-k-length-subsequence already exist, skipping...\n",
      "Generating code stub for 2660. determine-the-winner-of-a-bowling-game\n"
     ]
    },
    {
     "name": "stderr",
     "output_type": "stream",
     "text": [
      "Generating code stubs:  97%|█████████▋| 1373/1414 [04:37<00:15,  2.73it/s]"
     ]
    },
    {
     "name": "stdout",
     "output_type": "stream",
     "text": [
      "Error with determine-the-winner-of-a-bowling-game: list index out of range\n",
      "Files for sequential-digits already exist, skipping...\n",
      "Files for valid-parenthesis-string already exist, skipping...\n",
      "Files for moving-stones-until-consecutive-ii already exist, skipping...\n",
      "Files for sort-an-array already exist, skipping...\n",
      "Files for find-words-that-can-be-formed-by-characters already exist, skipping...\n",
      "Files for satisfiability-of-equality-equations already exist, skipping...\n",
      "Files for median-of-two-sorted-arrays already exist, skipping...\n",
      "Files for minimize-maximum-pair-sum-in-array already exist, skipping...\n",
      "Files for find-all-possible-recipes-from-given-supplies already exist, skipping...\n",
      "Files for number-complement already exist, skipping...\n",
      "Files for self-dividing-numbers already exist, skipping...\n",
      "Files for partition-array-according-to-given-pivot already exist, skipping...\n",
      "Files for minimum-speed-to-arrive-on-time already exist, skipping...\n",
      "Files for scramble-string already exist, skipping...\n",
      "Files for fizz-buzz already exist, skipping...\n",
      "Files for find-the-value-of-the-partition already exist, skipping...\n",
      "Files for check-if-every-row-and-column-contains-all-numbers already exist, skipping...\n",
      "Generating code stub for 559. maximum-depth-of-n-ary-tree\n"
     ]
    },
    {
     "name": "stderr",
     "output_type": "stream",
     "text": [
      "Generating code stubs:  98%|█████████▊| 1391/1414 [04:38<00:04,  5.69it/s]"
     ]
    },
    {
     "name": "stdout",
     "output_type": "stream",
     "text": [
      "Error with maximum-depth-of-n-ary-tree: malformed node or string on line 1: <ast.Name object at 0x1491bb940>\n",
      "Files for length-of-the-longest-valid-substring already exist, skipping...\n",
      "Generating code stub for 1367. linked-list-in-binary-tree\n"
     ]
    },
    {
     "name": "stderr",
     "output_type": "stream",
     "text": [
      "Generating code stubs:  99%|█████████▊| 1393/1414 [04:40<00:04,  4.23it/s]"
     ]
    },
    {
     "name": "stdout",
     "output_type": "stream",
     "text": [
      "Error with linked-list-in-binary-tree: malformed node or string on line 1: <ast.Name object at 0x14b4bf730>\n",
      "Files for calculate-money-in-leetcode-bank already exist, skipping...\n",
      "Files for maximize-the-minimum-powered-city already exist, skipping...\n",
      "Files for increasing-decreasing-string already exist, skipping...\n",
      "Files for largest-positive-integer-that-exists-with-its-negative already exist, skipping...\n",
      "Files for last-moment-before-all-ants-fall-out-of-a-plank already exist, skipping...\n",
      "Files for check-if-string-is-transformable-with-substring-sort-operations already exist, skipping...\n",
      "Generating code stub for 594. longest-harmonious-subsequence\n"
     ]
    },
    {
     "name": "stderr",
     "output_type": "stream",
     "text": [
      "Generating code stubs:  99%|█████████▉| 1400/1414 [04:41<00:03,  4.46it/s]"
     ]
    },
    {
     "name": "stdout",
     "output_type": "stream",
     "text": [
      "Error with longest-harmonious-subsequence: list index out of range\n",
      "Files for sort-an-array already exist, skipping...\n",
      "Files for string-compression-ii already exist, skipping...\n",
      "Files for largest-number-after-digit-swaps-by-parity already exist, skipping...\n",
      "Generating code stub for 30. substring-with-concatenation-of-all-words\n"
     ]
    },
    {
     "name": "stderr",
     "output_type": "stream",
     "text": [
      "Generating code stubs:  99%|█████████▉| 1404/1414 [04:42<00:02,  4.14it/s]"
     ]
    },
    {
     "name": "stdout",
     "output_type": "stream",
     "text": [
      "Error with substring-with-concatenation-of-all-words: list index out of range\n",
      "Generating code stub for 107. binary-tree-level-order-traversal-ii\n"
     ]
    },
    {
     "name": "stderr",
     "output_type": "stream",
     "text": [
      "Generating code stubs:  99%|█████████▉| 1405/1414 [04:44<00:03,  2.97it/s]"
     ]
    },
    {
     "name": "stdout",
     "output_type": "stream",
     "text": [
      "Error with binary-tree-level-order-traversal-ii: malformed node or string on line 1: <ast.Name object at 0x149d27640>\n",
      "Files for minimum-bit-flips-to-convert-number already exist, skipping...\n",
      "Files for restore-ip-addresses already exist, skipping...\n",
      "Files for n-th-tribonacci-number already exist, skipping...\n",
      "Generating code stub for 427. construct-quad-tree\n"
     ]
    },
    {
     "name": "stderr",
     "output_type": "stream",
     "text": [
      "Generating code stubs: 100%|█████████▉| 1409/1414 [04:45<00:01,  3.14it/s]"
     ]
    },
    {
     "name": "stdout",
     "output_type": "stream",
     "text": [
      "Error with construct-quad-tree: malformed node or string on line 1: <ast.Name object at 0x12fe8da50>\n",
      "Files for can-place-flowers already exist, skipping...\n",
      "Files for find-closest-node-to-given-two-nodes already exist, skipping...\n",
      "Files for sum-of-subarray-minimums already exist, skipping...\n",
      "Generating code stub for 94. binary-tree-inorder-traversal\n"
     ]
    },
    {
     "name": "stderr",
     "output_type": "stream",
     "text": [
      "Generating code stubs: 100%|██████████| 1414/1414 [04:46<00:00,  4.93it/s]"
     ]
    },
    {
     "name": "stdout",
     "output_type": "stream",
     "text": [
      "Error with binary-tree-inorder-traversal: list index out of range\n",
      "Files for number-of-ways-of-cutting-a-pizza already exist, skipping...\n"
     ]
    },
    {
     "name": "stderr",
     "output_type": "stream",
     "text": [
      "\n"
     ]
    }
   ],
   "source": [
    "from leetscrape import GenerateCodeStub\n",
    "from tqdm import tqdm\n",
    "import os\n",
    "for i in tqdm(range(len(python3_instances)), desc=\"Generating code stubs\"):\n",
    "    # print(python3_instances[i][\"slug\"])\n",
    "    try:\n",
    "        slug = python3_instances[i][\"slug\"]\n",
    "        # Get the problem ID and title from the solution file\n",
    "        solution_code = python3_instances[i][\"solution\"]\n",
    "        # Convert slug to camelCase format\n",
    "        words = slug.split('-')\n",
    "        camel_case = words[0] + ''.join(word.capitalize() for word in words[1:])\n",
    "        \n",
    "        # Check if files already exist with the slug name\n",
    "        base_dir = \"/Users/zhijie/Documents/11-711 Advanced NLP/anlp-hw4/evaluation/test_cases\"\n",
    "        \n",
    "        # Check if any file contains the slug in its name\n",
    "        files_exist = False\n",
    "        for filename in os.listdir(base_dir):\n",
    "            if slug.replace(\"-\", \"\") in filename or camel_case in filename:\n",
    "                files_exist = True\n",
    "                break\n",
    "        \n",
    "        if files_exist:\n",
    "            print(f\"Files for {slug} already exist, skipping...\")\n",
    "            continue\n",
    "            \n",
    "        # Generate the files if they don't exist\n",
    "        fcs = GenerateCodeStub(titleSlug=slug)\n",
    "        fcs.generate(\n",
    "            directory=\"/Users/zhijie/Documents/11-711 Advanced NLP/anlp-hw4/evaluation/test_cases\"\n",
    "        )\n",
    "    except Exception as e:\n",
    "        print(f\"Error with {python3_instances[i]['slug']}: {str(e)}\")\n"
   ]
  },
  {
   "cell_type": "code",
   "execution_count": 4,
   "metadata": {},
   "outputs": [],
   "source": [
    "with open(\"test_cases/q_1040_movingStonesUntilConsecutiveIi.py\", \"w\") as f:\n",
    "    f.write(python3_instances[0][\"solution\"])\n"
   ]
  },
  {
   "cell_type": "code",
   "execution_count": 3,
   "metadata": {},
   "outputs": [
    {
     "name": "stdout",
     "output_type": "stream",
     "text": [
      "Collecting datasets\n",
      "  Using cached datasets-3.5.0-py3-none-any.whl.metadata (19 kB)\n",
      "Collecting filelock (from datasets)\n",
      "  Using cached filelock-3.18.0-py3-none-any.whl.metadata (2.9 kB)\n",
      "Requirement already satisfied: numpy>=1.17 in /Users/zhijie/miniconda3/envs/leetscrape/lib/python3.10/site-packages (from datasets) (1.24.3)\n",
      "Collecting pyarrow>=15.0.0 (from datasets)\n",
      "  Using cached pyarrow-19.0.1-cp310-cp310-macosx_12_0_arm64.whl.metadata (3.3 kB)\n",
      "Collecting dill<0.3.9,>=0.3.0 (from datasets)\n",
      "  Using cached dill-0.3.8-py3-none-any.whl.metadata (10 kB)\n",
      "Requirement already satisfied: pandas in /Users/zhijie/miniconda3/envs/leetscrape/lib/python3.10/site-packages (from datasets) (2.0.3)\n",
      "Requirement already satisfied: requests>=2.32.2 in /Users/zhijie/miniconda3/envs/leetscrape/lib/python3.10/site-packages (from datasets) (2.32.3)\n",
      "Requirement already satisfied: tqdm>=4.66.3 in /Users/zhijie/miniconda3/envs/leetscrape/lib/python3.10/site-packages (from datasets) (4.67.1)\n",
      "Collecting xxhash (from datasets)\n",
      "  Using cached xxhash-3.5.0-cp310-cp310-macosx_11_0_arm64.whl.metadata (12 kB)\n",
      "Collecting multiprocess<0.70.17 (from datasets)\n",
      "  Using cached multiprocess-0.70.16-py310-none-any.whl.metadata (7.2 kB)\n",
      "Collecting fsspec<=2024.12.0,>=2023.1.0 (from fsspec[http]<=2024.12.0,>=2023.1.0->datasets)\n",
      "  Using cached fsspec-2024.12.0-py3-none-any.whl.metadata (11 kB)\n",
      "Collecting aiohttp (from datasets)\n",
      "  Downloading aiohttp-3.11.16-cp310-cp310-macosx_11_0_arm64.whl.metadata (7.7 kB)\n",
      "Collecting huggingface-hub>=0.24.0 (from datasets)\n",
      "  Downloading huggingface_hub-0.30.2-py3-none-any.whl.metadata (13 kB)\n",
      "Requirement already satisfied: packaging in /Users/zhijie/miniconda3/envs/leetscrape/lib/python3.10/site-packages (from datasets) (24.2)\n",
      "Collecting pyyaml>=5.1 (from datasets)\n",
      "  Using cached PyYAML-6.0.2-cp310-cp310-macosx_11_0_arm64.whl.metadata (2.1 kB)\n",
      "Collecting aiohappyeyeballs>=2.3.0 (from aiohttp->datasets)\n",
      "  Using cached aiohappyeyeballs-2.6.1-py3-none-any.whl.metadata (5.9 kB)\n",
      "Collecting aiosignal>=1.1.2 (from aiohttp->datasets)\n",
      "  Using cached aiosignal-1.3.2-py2.py3-none-any.whl.metadata (3.8 kB)\n",
      "Collecting async-timeout<6.0,>=4.0 (from aiohttp->datasets)\n",
      "  Using cached async_timeout-5.0.1-py3-none-any.whl.metadata (5.1 kB)\n",
      "Collecting attrs>=17.3.0 (from aiohttp->datasets)\n",
      "  Using cached attrs-25.3.0-py3-none-any.whl.metadata (10 kB)\n",
      "Collecting frozenlist>=1.1.1 (from aiohttp->datasets)\n",
      "  Using cached frozenlist-1.5.0-cp310-cp310-macosx_11_0_arm64.whl.metadata (13 kB)\n",
      "Collecting multidict<7.0,>=4.5 (from aiohttp->datasets)\n",
      "  Downloading multidict-6.4.3-cp310-cp310-macosx_11_0_arm64.whl.metadata (5.3 kB)\n",
      "Collecting propcache>=0.2.0 (from aiohttp->datasets)\n",
      "  Downloading propcache-0.3.1-cp310-cp310-macosx_11_0_arm64.whl.metadata (10 kB)\n",
      "Collecting yarl<2.0,>=1.17.0 (from aiohttp->datasets)\n",
      "  Downloading yarl-1.19.0-cp310-cp310-macosx_11_0_arm64.whl.metadata (71 kB)\n",
      "Requirement already satisfied: typing-extensions>=3.7.4.3 in /Users/zhijie/miniconda3/envs/leetscrape/lib/python3.10/site-packages (from huggingface-hub>=0.24.0->datasets) (4.13.2)\n",
      "Requirement already satisfied: charset-normalizer<4,>=2 in /Users/zhijie/miniconda3/envs/leetscrape/lib/python3.10/site-packages (from requests>=2.32.2->datasets) (3.4.1)\n",
      "Requirement already satisfied: idna<4,>=2.5 in /Users/zhijie/miniconda3/envs/leetscrape/lib/python3.10/site-packages (from requests>=2.32.2->datasets) (3.10)\n",
      "Requirement already satisfied: urllib3<3,>=1.21.1 in /Users/zhijie/miniconda3/envs/leetscrape/lib/python3.10/site-packages (from requests>=2.32.2->datasets) (2.4.0)\n",
      "Requirement already satisfied: certifi>=2017.4.17 in /Users/zhijie/miniconda3/envs/leetscrape/lib/python3.10/site-packages (from requests>=2.32.2->datasets) (2025.1.31)\n",
      "Requirement already satisfied: python-dateutil>=2.8.2 in /Users/zhijie/miniconda3/envs/leetscrape/lib/python3.10/site-packages (from pandas->datasets) (2.9.0.post0)\n",
      "Requirement already satisfied: pytz>=2020.1 in /Users/zhijie/miniconda3/envs/leetscrape/lib/python3.10/site-packages (from pandas->datasets) (2024.1)\n",
      "Requirement already satisfied: tzdata>=2022.1 in /Users/zhijie/miniconda3/envs/leetscrape/lib/python3.10/site-packages (from pandas->datasets) (2023.3)\n",
      "Requirement already satisfied: six>=1.5 in /Users/zhijie/miniconda3/envs/leetscrape/lib/python3.10/site-packages (from python-dateutil>=2.8.2->pandas->datasets) (1.17.0)\n",
      "Using cached datasets-3.5.0-py3-none-any.whl (491 kB)\n",
      "Using cached dill-0.3.8-py3-none-any.whl (116 kB)\n",
      "Using cached fsspec-2024.12.0-py3-none-any.whl (183 kB)\n",
      "Downloading aiohttp-3.11.16-cp310-cp310-macosx_11_0_arm64.whl (455 kB)\n",
      "Downloading huggingface_hub-0.30.2-py3-none-any.whl (481 kB)\n",
      "Using cached multiprocess-0.70.16-py310-none-any.whl (134 kB)\n",
      "Using cached pyarrow-19.0.1-cp310-cp310-macosx_12_0_arm64.whl (30.7 MB)\n",
      "Using cached PyYAML-6.0.2-cp310-cp310-macosx_11_0_arm64.whl (171 kB)\n",
      "Using cached filelock-3.18.0-py3-none-any.whl (16 kB)\n",
      "Using cached xxhash-3.5.0-cp310-cp310-macosx_11_0_arm64.whl (30 kB)\n",
      "Using cached aiohappyeyeballs-2.6.1-py3-none-any.whl (15 kB)\n",
      "Using cached aiosignal-1.3.2-py2.py3-none-any.whl (7.6 kB)\n",
      "Using cached async_timeout-5.0.1-py3-none-any.whl (6.2 kB)\n",
      "Using cached attrs-25.3.0-py3-none-any.whl (63 kB)\n",
      "Using cached frozenlist-1.5.0-cp310-cp310-macosx_11_0_arm64.whl (52 kB)\n",
      "Downloading multidict-6.4.3-cp310-cp310-macosx_11_0_arm64.whl (37 kB)\n",
      "Downloading propcache-0.3.1-cp310-cp310-macosx_11_0_arm64.whl (45 kB)\n",
      "Downloading yarl-1.19.0-cp310-cp310-macosx_11_0_arm64.whl (94 kB)\n",
      "Installing collected packages: xxhash, pyyaml, pyarrow, propcache, multidict, fsspec, frozenlist, filelock, dill, attrs, async-timeout, aiohappyeyeballs, yarl, multiprocess, huggingface-hub, aiosignal, aiohttp, datasets\n",
      "Successfully installed aiohappyeyeballs-2.6.1 aiohttp-3.11.16 aiosignal-1.3.2 async-timeout-5.0.1 attrs-25.3.0 datasets-3.5.0 dill-0.3.8 filelock-3.18.0 frozenlist-1.5.0 fsspec-2024.12.0 huggingface-hub-0.30.2 multidict-6.4.3 multiprocess-0.70.16 propcache-0.3.1 pyarrow-19.0.1 pyyaml-6.0.2 xxhash-3.5.0 yarl-1.19.0\n"
     ]
    }
   ],
   "source": []
  },
  {
   "cell_type": "code",
   "execution_count": null,
   "metadata": {},
   "outputs": [],
   "source": []
  }
 ],
 "metadata": {
  "kernelspec": {
   "display_name": "leetscrape",
   "language": "python",
   "name": "python3"
  },
  "language_info": {
   "codemirror_mode": {
    "name": "ipython",
    "version": 3
   },
   "file_extension": ".py",
   "mimetype": "text/x-python",
   "name": "python",
   "nbconvert_exporter": "python",
   "pygments_lexer": "ipython3",
   "version": "3.10.16"
  }
 },
 "nbformat": 4,
 "nbformat_minor": 2
}
